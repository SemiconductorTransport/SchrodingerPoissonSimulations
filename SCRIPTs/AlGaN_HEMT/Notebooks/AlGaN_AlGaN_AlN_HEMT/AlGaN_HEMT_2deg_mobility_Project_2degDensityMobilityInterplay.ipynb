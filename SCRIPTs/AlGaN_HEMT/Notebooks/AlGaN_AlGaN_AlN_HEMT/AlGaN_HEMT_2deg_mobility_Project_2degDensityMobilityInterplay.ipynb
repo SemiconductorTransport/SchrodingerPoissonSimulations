{
 "cells": [
  {
   "cell_type": "markdown",
   "id": "7786e513-1800-4a76-9bdf-bbbc50b5eda4",
   "metadata": {},
   "source": [
    "# Project: AlGaN/AlGaN/AlN HEMT 2DEG mobility calculation using mobilitypy\n",
    "\n",
    "The mobility models are implemented using the following refs:\n",
    "\n",
    "Ref-1: J. Bassaler, J. Mehta, I. Abid, L. Konczewicz, S. Juillaguet, S. Contreras, S. Rennesson, S. Tamariz, M. Nemoz, F. Semond, J. Pernot, F. Medjdoub, Y. Cordier, P. Ferrandis, Al-Rich AlGaN Channel High Electron Mobility Transistors on Silicon: A Relevant Approach for High Temperature Stability of Electron Mobility. Adv. Electron. Mater. 2024, 2400069. https://doi.org/10.1002/aelm.202400069\n",
    "\n",
    "Ref-2: Zhang, J., Hao, Y., Zhang, J. et al. The mobility of two-dimensional electron gas in AlGaN/GaN heterostructures with varied Al content. Sci. China Ser. F-Inf. Sci. 51, 780–789 (2008). https://doi.org/10.1007/s11432-008-0056-7\n",
    "\n",
    "Ref-3: This publication\n"
   ]
  },
  {
   "cell_type": "markdown",
   "id": "9e52d7c6-f0a0-47d0-84b8-667d6a1d58a2",
   "metadata": {},
   "source": [
    "# 1. Settings"
   ]
  },
  {
   "cell_type": "markdown",
   "id": "12a36278-e0f1-4a35-93be-7ddbe089be35",
   "metadata": {},
   "source": [
    "## 1.1 Import modules"
   ]
  },
  {
   "cell_type": "code",
   "execution_count": null,
   "id": "f8068cb9-b57a-4141-a049-2bd20c4285cf",
   "metadata": {},
   "outputs": [],
   "source": [
    "import numpy as np\n",
    "import scipy as sc\n",
    "import matplotlib.pyplot as plt\n",
    "import pandas as pd\n",
    "from matplotlib import colors, cm\n",
    "import matplotlib.ticker as ticker\n",
    "from matplotlib.patches import Ellipse"
   ]
  },
  {
   "cell_type": "code",
   "execution_count": null,
   "id": "89f5eeaa-a049-481e-be9b-460d297a585f",
   "metadata": {},
   "outputs": [],
   "source": [
    "#%load_ext autoreload\n",
    "#%autoreload 2"
   ]
  },
  {
   "cell_type": "code",
   "execution_count": null,
   "id": "ea470300-8e85-45a2-a94a-c4489518b2de",
   "metadata": {},
   "outputs": [],
   "source": [
    "import sys, os\n",
    "from pathlib import Path\n",
    "from mobilitypy import AlloyParams, Mobility2DCarrier\n",
    "from mobilitypy import Plottings, PlotQuasi3DFuns"
   ]
  },
  {
   "cell_type": "markdown",
   "id": "df1c6498-4601-4921-ba21-353323893d0e",
   "metadata": {},
   "source": [
    "## 1.2 Set some parameters"
   ]
  },
  {
   "cell_type": "code",
   "execution_count": null,
   "id": "49e6a601-4de8-49e5-9148-aa2ad68f4b2f",
   "metadata": {},
   "outputs": [],
   "source": [
    "redo_mobility_cal = True # re-do mobility calculation\n",
    "resave_mobilities = True # re-save the calculated mobility values. Make sure you use redo_mobility_cal=True."
   ]
  },
  {
   "cell_type": "code",
   "execution_count": null,
   "id": "67409f96-5421-4d0d-8690-b4e596831ce5",
   "metadata": {},
   "outputs": [],
   "source": [
    "savefigure = True\n",
    "FigFormat = 'png'\n",
    "FigFormatPaper = 'eps'\n",
    "fig_save_dpi = 300\n",
    "color_map_plot = 'viridis'\n",
    "print_align_space = 20"
   ]
  },
  {
   "cell_type": "markdown",
   "id": "8b3b9333-3993-4c2b-b78a-7be0fa040134",
   "metadata": {},
   "source": [
    "## 1.3 Set folders path"
   ]
  },
  {
   "cell_type": "code",
   "execution_count": null,
   "id": "4aba3017-df24-4595-97b7-4adca48a3e0b",
   "metadata": {},
   "outputs": [],
   "source": [
    "current_script_path = Path().absolute()\n",
    "# Simulation directory\n",
    "sim_dir = str(current_script_path).split('SCRIPTs')[0]\n",
    "# Project id\n",
    "my_project_id = '2DEG_DensityMobilityInterplay'\n",
    "# inner location of input file within INPUTs folder\n",
    "folder_input_lower_level = f'AlGaN_HEMT/AlGaN_AlGaN_AlN_HEMT/nnp/{my_project_id}'\n",
    "# complete path of data file folder\n",
    "folder_2deg_data_parent = os.path.join(sim_dir, 'DATAs', folder_input_lower_level)\n",
    "folder_2deg_density_file = os.path.join(folder_2deg_data_parent, '2DEHG_density/OneDim', 'sim_post_process_data.xlsx')\n",
    "folder_2deg_mobility_folder = os.path.join(folder_2deg_data_parent, '2DEHG_mobility/OneDim')\n",
    "folder_2deg_mobility_file = os.path.join(folder_2deg_mobility_folder,'sim_post_process_data.xlsx') \n",
    "save_figure_dir = os.path.join(sim_dir, 'FIGs', folder_input_lower_level, '2DEHG_mobility/OneDim')\n",
    "\n",
    "Path(folder_2deg_mobility_folder).mkdir(parents=True, exist_ok=True)\n",
    "Path(save_figure_dir).mkdir(parents=True, exist_ok=True)"
   ]
  },
  {
   "cell_type": "code",
   "execution_count": null,
   "id": "a640b5e9-7e09-463f-9089-f4191c6577ab",
   "metadata": {},
   "outputs": [],
   "source": [
    "print(f'* 2DEG density data file: {folder_2deg_density_file}')\n",
    "print(f'* 2DEG mobility data file: {folder_2deg_mobility_file}')\n",
    "print(f'* 2DEG mobility figure file: {folder_2deg_mobility_file}')"
   ]
  },
  {
   "cell_type": "markdown",
   "id": "87f4fe5c-c009-4d5c-b2b4-81cf3e8a9566",
   "metadata": {},
   "source": [
    "## 1.4 Set physical constants"
   ]
  },
  {
   "cell_type": "code",
   "execution_count": null,
   "id": "6fc041c7-180f-4a4d-8b36-72108cbc65eb",
   "metadata": {
    "scrolled": true
   },
   "outputs": [],
   "source": [
    "'''\n",
    "n_2d => in nm^-2\n",
    "rms_roughness => nm^-1\n",
    "corr_len => nm^-1\n",
    "n_dis => nm^-2\n",
    "f_dis => unit less\n",
    "'''\n",
    "alloy_disordered_effect=1\n",
    "interface_roughness_effect=1\n",
    "dislocation_effect=1\n",
    "deformation_potential_effect=1 \n",
    "piezoelectric_effect=1\n",
    "acoustic_phonon_effect=1\n",
    "polar_optical_phonon_effect=1\n",
    "total_mobility=1\n",
    "mobility_model='Bassaler'\n",
    "density_2deg = 0.1 # nm^-2\n",
    "irf_rms_roughness = 0.3 # nm\n",
    "irf_corr_length = 3.0 # nm\n",
    "dislocation_density = 1e-4 # nm^-2\n",
    "occup_dislocation = 0.3\n",
    "T_sweep = [10, 100, 200, 300, 400, 500, 600, 700, 800] # in K , sweep temperature\n",
    "T_corect_bandgap_in_LFOM = False"
   ]
  },
  {
   "cell_type": "code",
   "execution_count": null,
   "id": "ddc76c34-dfd2-4ab8-9f80-9509e7203660",
   "metadata": {},
   "outputs": [],
   "source": [
    "plot_mobilities = ['IFR', 'DIS', 'AD', 'AP', 'POP', 'TOT', 'LFOM', 'LFOMnorm', '2DEG']\n",
    "plots_list_individual = ['TOT', 'LFOM', 'LFOMnorm', '2DEG', '2DHG']\n",
    "len_plots = len(plot_mobilities)\n",
    "rescale_2deg_fact=1e13\n",
    "\n",
    "x_label_text = 'Al composition barrier, y'\n",
    "x_label_text_2d = 'Barrier thickness, L$_\\\\mathrm{B}$ (nm)'\n",
    "x_p_label_text = 'Al composition channel, x'\n",
    "y_label_text = 'Barrier thickness, L$_\\\\mathrm{B}$(nm)'\n",
    "z_label = {'General': r'2DEG mobility, $\\mu$ ($\\mathrm{cm}^2\\mathrm{V}^{-1}\\mathrm{s}^{-1}$)', \n",
    "           'TOT': r'2DEG mobility, $\\mu$ ($\\mathrm{cm}^2\\mathrm{V}^{-1}\\mathrm{s}^{-1}$)',\n",
    "           'LFOM': r'LFOM (MW/cm$^2$)',\n",
    "           'LFOMnorm': r'LFOM$_\\mathrm{(Al,Ga)N}$/LFOM$_\\mathrm{highest}$', \n",
    "           'LFOMnorm_2': r'LFOM$_\\mathrm{(Al,Ga)N}$/LFOM$_\\mathrm{GaN}$',\n",
    "           '2DEG': r'2DEG density, n$_{\\mathrm{2D}}$ ($\\mathrm{10}^{13}\\mathrm{cm}^{-2}$)', \n",
    "           '2DHG': r'2DHG density ($\\mathrm{10}^{13}\\mathrm{cm}^{-2}$)'} #Sheet resistance"
   ]
  },
  {
   "cell_type": "code",
   "execution_count": null,
   "id": "2a73cdc5-556c-4da0-a428-3543a80dc9aa",
   "metadata": {},
   "outputs": [],
   "source": [
    "params = {'axes.labelsize': 20,\n",
    "          'axes.titlesize': 20,\n",
    "          'xtick.labelsize':20,\n",
    "          'xtick.major.width':2,\n",
    "          'xtick.major.size':5,\n",
    "          'xtick.minor.width':2,\n",
    "          'xtick.minor.size':3,\n",
    "          'ytick.labelsize': 20,\n",
    "          'ytick.major.width':2,\n",
    "          'ytick.major.size':5,\n",
    "          'ytick.minor.width':2,\n",
    "          'ytick.minor.size':3,\n",
    "          'errorbar.capsize':2}\n",
    "plt.rcParams.update(params)\n",
    "plt.rc('font', size=20)"
   ]
  },
  {
   "cell_type": "code",
   "execution_count": null,
   "id": "e99b9b47-808d-4f11-83d6-01c362ab3827",
   "metadata": {},
   "outputs": [],
   "source": [
    "rescale_2deg_fact=1e13"
   ]
  },
  {
   "cell_type": "markdown",
   "id": "106bb743-33d3-4657-b6ac-9b65ea856c7d",
   "metadata": {},
   "source": [
    "# 2. Calculate mobilities"
   ]
  },
  {
   "cell_type": "markdown",
   "id": "f676c345-1c0a-4e0c-9875-972fc63cb9e6",
   "metadata": {},
   "source": [
    "## 2.1 Al0.25Ga0.75N(25nm)/GaN(305nm) HEMT LFOM for normalization"
   ]
  },
  {
   "cell_type": "markdown",
   "id": "fb9d394d-e885-485a-91f3-c79fafb36047",
   "metadata": {},
   "source": [
    "### 2.1.1 Read 2DEG data from nextnano simulation"
   ]
  },
  {
   "cell_type": "code",
   "execution_count": null,
   "id": "ffc7577f-9743-4a52-a064-cce1722b116d",
   "metadata": {},
   "outputs": [],
   "source": [
    "if redo_mobility_cal:\n",
    "    data_sheet_name =  'GaN_T_scan' #'GaN_C_sweep__Temperature'\n",
    "    n_2d_df_ref = pd.read_excel(folder_2deg_density_file, sheet_name=data_sheet_name, index_col=0)\n",
    "    density_2deg_comp_ref = np.array(n_2d_df_ref['2DEG_device'], dtype=float)/1e+14 # cm^-2 to nm^-2 conversion"
   ]
  },
  {
   "cell_type": "code",
   "execution_count": null,
   "id": "fa32cf28-9cac-4c92-9f2b-3d8634714ba0",
   "metadata": {},
   "outputs": [],
   "source": [
    "if redo_mobility_cal:\n",
    "    fig, ax = plt.subplots(figsize=(9,6), constrained_layout=True)\n",
    "    XX = np.array(n_2d_df_ref['Temperature'], dtype=float)\n",
    "    ax.plot(XX, n_2d_df_ref['2DEG_device']/rescale_2deg_fact, 'o-', c='k')\n",
    "    ax.set_xlabel('Al composition channel, x')\n",
    "    ax.set_ylabel(r'2DEG density, n$_\\mathrm{2D}$ ($\\mathrm{10}^{13}\\mathrm{cm}^{-2}$)')\n",
    "    ax.xaxis.set_major_locator(ticker.MultipleLocator(100))\n",
    "    ax.xaxis.set_minor_locator(ticker.MultipleLocator(50))"
   ]
  },
  {
   "cell_type": "markdown",
   "id": "adbf3a1e-b7ba-48e8-b3d9-aecbb7b3968e",
   "metadata": {},
   "source": [
    "Conclusion: 2DEG density negligible depend on temperature"
   ]
  },
  {
   "cell_type": "markdown",
   "id": "75846e7f-27c5-46a2-95c8-877b4d910658",
   "metadata": {},
   "source": [
    "### 2.1.2 Calculate Al0.25Ga0.75N(25nm)/GaN(305nm) mobilities"
   ]
  },
  {
   "cell_type": "code",
   "execution_count": null,
   "id": "d9f75824-5091-4ecf-8a28-56748d34ef53",
   "metadata": {
    "scrolled": true
   },
   "outputs": [],
   "source": [
    "if redo_mobility_cal:\n",
    "    channel_comp_ref = 0 # Channel is pure GaN\n",
    "    density_2deg_comp_ref = 0.0625 # in nm^-2\n",
    "    mu2deg = Mobility2DCarrier(compositions=channel_comp_ref, binaries=['AlN', 'GaN'], alloy='AlGaN', system='ternary', \n",
    "                               print_log=None, eps_n_2d=1e-10)"
   ]
  },
  {
   "cell_type": "code",
   "execution_count": null,
   "id": "83c171e4-f8d7-4f1c-b98c-4146f7daba62",
   "metadata": {},
   "outputs": [],
   "source": [
    "if redo_mobility_cal:\n",
    "    mobility_ref_dff = pd.DataFrame()\n",
    "    \n",
    "    for T in T_sweep:\n",
    "        # Calculate mobilities\n",
    "        mobility_ref = mu2deg.calculate_sheet_mobility(n_2d=density_2deg_comp_ref, rms_roughness=irf_rms_roughness,\n",
    "                                                       corr_len=irf_corr_length, n_dis=dislocation_density,\n",
    "                                                       f_dis=occup_dislocation, T=T,\n",
    "                                                       alloy_disordered_effect=False,\n",
    "                                                       interface_roughness_effect=interface_roughness_effect,\n",
    "                                                       dislocation_effect=dislocation_effect,\n",
    "                                                       deformation_potential_effect=deformation_potential_effect,\n",
    "                                                       piezoelectric_effect=piezoelectric_effect,\n",
    "                                                       acoustic_phonon_effect=acoustic_phonon_effect,\n",
    "                                                       polar_optical_phonon_effect=polar_optical_phonon_effect,\n",
    "                                                       total_mobility=total_mobility,\n",
    "                                                       #calculate_total_mobility_only=True,\n",
    "                                                       mobility_model=mobility_model)\n",
    "        \n",
    "        ref_mu_total = np.array(mobility_ref['TOT'], dtype=float) # cm^2.V^-1.s^-1\n",
    "        # Add temperature column\n",
    "        mobility_ref['T'] = T # K\n",
    "        mobility_ref['2DEG_device'] = density_2deg_comp_ref*1e14 #cm^-2\n",
    "        # Calculate LFOM\n",
    "        mobility_ref['LFOM'] = mu2deg.calculate_figure_of_merit(density_2deg_comp_ref, ref_mu_total,\n",
    "                                                                temp=T, T_corect_bandgap=T_corect_bandgap_in_LFOM) # LFOM: MW/cm^2\n",
    "        # Concatenate dataframes\n",
    "        mobility_ref_dff = pd.concat([mobility_ref_dff, mobility_ref], ignore_index=True)"
   ]
  },
  {
   "cell_type": "markdown",
   "id": "c3e1c796-32d9-40e8-858d-39065a0d25d7",
   "metadata": {},
   "source": [
    "### 2.1.3 Save Al0.25Ga0.75N(25nm)/GaN(305nm) mobilities"
   ]
  },
  {
   "cell_type": "code",
   "execution_count": null,
   "id": "186ff1df-7396-47f3-9fce-043ea1ba82b2",
   "metadata": {},
   "outputs": [],
   "source": [
    "if resave_mobilities:\n",
    "    # Create the file if it does not exist\n",
    "    if not os.path.exists(folder_2deg_mobility_file):\n",
    "        with pd.ExcelWriter(folder_2deg_mobility_file, engine='openpyxl', mode=\"w\") as writer:  \n",
    "            mobility_ref_dff.to_excel(writer, sheet_name='ref_Al25Ga75N_GaN')\n",
    "    else:\n",
    "        with pd.ExcelWriter(folder_2deg_mobility_file, engine='openpyxl', mode=\"a\", if_sheet_exists=\"replace\") as writer:  \n",
    "            mobility_ref_dff.to_excel(writer, sheet_name='ref_Al25Ga75N_GaN')"
   ]
  },
  {
   "cell_type": "markdown",
   "id": "48797a51-45d9-4ff3-95e1-1b1ab1a861d9",
   "metadata": {},
   "source": [
    "## 2.3 AlGaN/AlGaN mobilities and figure-of-merit"
   ]
  },
  {
   "cell_type": "markdown",
   "id": "96c357b1-39f4-464b-9cde-db160195ce03",
   "metadata": {},
   "source": [
    "### 2.3.1 Read 2DEG data from nextnano simulation"
   ]
  },
  {
   "cell_type": "code",
   "execution_count": null,
   "id": "0714ac87-a67c-4c50-b015-e51a64092060",
   "metadata": {},
   "outputs": [],
   "source": [
    "if redo_mobility_cal:\n",
    "    data_sheet_name = 'x_y_Lb_scan' #'sim_sweep__AlContentBarrier__AlContentChannel__ThicknessAlGaNBarrier'\n",
    "    n_2d_df = pd.read_excel(folder_2deg_density_file, sheet_name=data_sheet_name, index_col=0)\n",
    "    density_2deg_comp = np.array(n_2d_df['2DEG_device'], dtype=float)/1e+14 # cm^-2 to nm^-2 conversion\n",
    "    channel_comp = np.array(n_2d_df['AlContentChannel'], dtype=float)"
   ]
  },
  {
   "cell_type": "markdown",
   "id": "5c5596bd-adae-4341-ad7e-5e6d38a62cf0",
   "metadata": {},
   "source": [
    "### 2.3.2 Calculate mobilities"
   ]
  },
  {
   "cell_type": "code",
   "execution_count": null,
   "id": "279fe1ec-1798-4f85-81a8-b865496330a2",
   "metadata": {},
   "outputs": [],
   "source": [
    "if redo_mobility_cal:\n",
    "    mu2deg = Mobility2DCarrier(compositions=channel_comp, binaries=['AlN', 'GaN'], alloy='AlGaN', system='ternary')"
   ]
  },
  {
   "cell_type": "code",
   "execution_count": null,
   "id": "99c47a37-f9c4-4f74-ae98-e7cc593edd95",
   "metadata": {},
   "outputs": [],
   "source": [
    "if redo_mobility_cal:\n",
    "    mobility_dff = pd.DataFrame()\n",
    "    \n",
    "    for T in T_sweep:\n",
    "        # Calculate mobilities\n",
    "        mobility_df = mu2deg.calculate_sheet_mobility(n_2d=density_2deg_comp, rms_roughness=irf_rms_roughness, \n",
    "                                                      corr_len=irf_corr_length, n_dis=dislocation_density, \n",
    "                                                      f_dis=occup_dislocation, T=T,\n",
    "                                                      alloy_disordered_effect=alloy_disordered_effect,\n",
    "                                                      interface_roughness_effect=interface_roughness_effect,\n",
    "                                                      dislocation_effect=dislocation_effect,\n",
    "                                                      deformation_potential_effect=deformation_potential_effect,\n",
    "                                                      piezoelectric_effect=piezoelectric_effect,\n",
    "                                                      acoustic_phonon_effect=acoustic_phonon_effect,\n",
    "                                                      polar_optical_phonon_effect=polar_optical_phonon_effect,\n",
    "                                                      total_mobility=total_mobility,\n",
    "                                                      mobility_model=mobility_model)\n",
    "        mu_total = np.array(mobility_df['TOT'], dtype=float) # cm^2.V^-1.s^-1\n",
    "        # Add temperature column\n",
    "        mobility_df['T'] = T # K\n",
    "        # Calculate LFOM\n",
    "        mobility_df['LFOM'] = mu2deg.calculate_figure_of_merit(density_2deg_comp, mu_total, \n",
    "                                                               temp=T, T_corect_bandgap=T_corect_bandgap_in_LFOM) # LFOM: MW/cm^2\n",
    "        mobility_df['LFOM_2DEG1e13'] = mu2deg.calculate_figure_of_merit(0.1, mu_total, temp=T, \n",
    "                                                                        T_corect_bandgap=T_corect_bandgap_in_LFOM) # LFOM: MW/cm^2\n",
    "        # Concatenate dataframes\n",
    "        Combined_dff = pd.concat([n_2d_df, mobility_df], axis=1)\n",
    "        mobility_dff = pd.concat([mobility_dff, Combined_dff], ignore_index=True)"
   ]
  },
  {
   "cell_type": "markdown",
   "id": "a49e27b7-7e4a-4b97-bbf2-1d41b742db55",
   "metadata": {},
   "source": [
    "### 2.3.3 Save mobilities"
   ]
  },
  {
   "cell_type": "code",
   "execution_count": null,
   "id": "5266a075-0433-482d-868e-308230747099",
   "metadata": {},
   "outputs": [],
   "source": [
    "if resave_mobilities:\n",
    "    with pd.ExcelWriter(folder_2deg_mobility_file, engine='openpyxl', mode=\"a\", if_sheet_exists=\"replace\") as writer:  \n",
    "        mobility_dff.to_excel(writer, sheet_name='AlyGaN_AlxGaN')"
   ]
  },
  {
   "cell_type": "markdown",
   "id": "e73bf839-5ddd-4122-9dfc-251c87392fb4",
   "metadata": {},
   "source": [
    "### 2.3.4 Create helper for the data folder"
   ]
  },
  {
   "cell_type": "code",
   "execution_count": null,
   "id": "705a3f5f-915d-4af7-89b8-1c2870d86965",
   "metadata": {},
   "outputs": [],
   "source": [
    "if resave_mobilities:\n",
    "    # Creating helper.txt of this mapping in the DATAs folder\n",
    "    with open(os.path.join(folder_2deg_mobility_folder,'helper.txt'),'w') as helper_file:\n",
    "        header_txt = f'''Simulation Software: mobilitypy\n",
    "2DEG density simulation setup: 1D Schrodinger-Poisson from Nextnano++, Cation-face growth direction\n",
    "Sample: AlGaN/AlGaN/AlN HEMT\n",
    "\\n\n",
    "'''\n",
    "        sheet_column_name = f''' \n",
    "### {'='*72}\n",
    "# Sheet column name: description\n",
    "### {'='*72}\n",
    "0th column           : Row indices\n",
    "comp                 : Al content in AlGaN channel (in mole fraction)\n",
    "AlContentBarrier     : Al content in AlGaN barrier (in mole fraction)\n",
    "AlContentChannel     : Al content in AlGaN channel (in mole fraction)\n",
    "ThicknessAlGaNBarrier: AlGaN barrier thickness (in nm)\n",
    "2DEG_device          : Intergrated 2D electron gas density over whole device (in carriers/cm^2)\n",
    "2DEG_BC              : Intergrated 2D electron gas density around the barrier-channel interface (within quantum region) (in carriers/cm^2)\n",
    "2DEG_SC              : Intergrated 2D electron gas density around the Substrate/Buffer-channel interface (within quantum region) (in carriers/cm^2)\n",
    "2DHG_device          : Intergrated 2D hole gas density over whole device (in carriers/cm^2)\n",
    "2DHG_BC              : Intergrated 2D hole gas density around the barrier-channel interface (within quantum region) (in carriers/cm^2)\n",
    "2DHG_SC              : Intergrated 2D hole gas density around the Substrate/Buffer-channel interface (within quantum region) (in carriers/cm^2)\n",
    "IFR                  : Interface roughness limited mobility contribution (in cm^2.V^-1.s^-1)\n",
    "AD                   : Alloy disordered limited mobility contribution (in cm^2.V^-1.s^-1)\n",
    "DIS                  : Dislocation limited mobility contribution (in cm^2.V^-1.s^-1)\n",
    "DP                   : Deformation potential limited mobility contribution (in cm^2.V^-1.s^-1)\n",
    "PE                   : Piezoelectric limited mobility contribution (in cm^2.V^-1.s^-1)\n",
    "AP                   : Acoustic phonon limited mobility contribution (in cm^2.V^-1.s^-1)\n",
    "POP                  : Polar optical phonon limited mobility contribution (in cm^2.V^-1.s^-1)\n",
    "TOT                  : Total mobility (in cm^2.V^-1.s^-1)\n",
    "T                    : Temperature (in K)\n",
    "LFOM                 : Lateral figure-of-merit (in MW/cm^2)\n",
    "LFOM_2DEG1e13        : LFOM when considering constant 2DEG density of 1x10^13 carriers/cm^2\n",
    "\\n### {'='*72}\n",
    "'''\n",
    "        helper_file.write(header_txt)\n",
    "        helper_file.write(f\"### {'='*72}\\n\")\n",
    "        helper_file.write('# Sheet name: description\\n')\n",
    "        helper_file.write(f\"### {'='*72}\")\n",
    "        save_text = f\"\"\"\n",
    "ref_Al25Ga75N_GaN : Mobilities for reference Al25Ga75N(25nm)/GaN HEMT\n",
    "AlyGaN_AlxGaN : Mobilities for AlyGa1-xN(Lb)/AlxGa1-xN(300nm)/AlN(300nm) HEMT\n",
    "\"\"\"\n",
    "        helper_file.write(save_text)\n",
    "        helper_file.write(f\"\\n\")\n",
    "        helper_file.write(sheet_column_name)"
   ]
  },
  {
   "cell_type": "markdown",
   "id": "23c16e55-6f12-4938-a16f-b023ca2dbcd9",
   "metadata": {},
   "source": [
    "# 3. Read mobilities, FOMs from saved database"
   ]
  },
  {
   "cell_type": "markdown",
   "id": "18169b5b-5901-4f30-9f14-2e513b2497ea",
   "metadata": {},
   "source": [
    "## 3.1 Al0.25Ga0.75N(25nm)/GaN(305nm) HEMT LFOM for normalization"
   ]
  },
  {
   "cell_type": "code",
   "execution_count": null,
   "id": "8cdfd4cf-4bca-4180-80c6-7a1c13050e7d",
   "metadata": {},
   "outputs": [],
   "source": [
    "mobility_ref_dff = pd.read_excel(folder_2deg_mobility_file, index_col=0, sheet_name='ref_Al25Ga75N_GaN') "
   ]
  },
  {
   "cell_type": "code",
   "execution_count": null,
   "id": "17558791-f3c1-4207-a27f-961df858b014",
   "metadata": {},
   "outputs": [],
   "source": [
    "mobility_ref_df = mobility_ref_dff[mobility_ref_dff['T'] == 300].copy() # Reference data at 300 K\n",
    "ref_LFOM = mobility_ref_df['LFOM'].iloc[0]"
   ]
  },
  {
   "cell_type": "markdown",
   "id": "b2465abf-f95d-4e29-8251-89815f2dc199",
   "metadata": {},
   "source": [
    "Conclusion: 2DEG density negligible depend on temperature"
   ]
  },
  {
   "cell_type": "code",
   "execution_count": null,
   "id": "9b86cd92-bed1-4919-9263-90cff089a313",
   "metadata": {},
   "outputs": [],
   "source": [
    "print(f'{\"- Reference sample\":<{print_align_space}}: Al0.25Ga0.75N(25nm)/GaN(305nm)')\n",
    "print(f'{\"-- 2DEG density\":<{print_align_space}}: {mobility_ref_df['2DEG_device'].iloc[0]:.5e} cm^-2')\n",
    "print(f'{\"-- 2DEG mobility\":<{print_align_space}}: {mobility_ref_df['TOT'].iloc[0]:.5e} cm^2.V^-1.s^-1')\n",
    "print(f'{\"-- LFOM\":<{print_align_space}}: {ref_LFOM:.5e} MW/cm^2')"
   ]
  },
  {
   "cell_type": "markdown",
   "id": "de373f8e-9504-436c-a86d-dfaf233795ff",
   "metadata": {},
   "source": [
    "## 3.2 AlGaN/AlGaN mobilities and figure-of-merit¶"
   ]
  },
  {
   "cell_type": "code",
   "execution_count": null,
   "id": "3bf3a76b-6329-4cb8-9464-f7094b09c2b3",
   "metadata": {},
   "outputs": [],
   "source": [
    "mobility_dff = pd.read_excel(folder_2deg_mobility_file, index_col=0, sheet_name='AlyGaN_AlxGaN') #, dtype=float) \n",
    "## Not sure why 'IFR' column is read as object\n",
    "mobility_dff['IFR'] = pd.to_numeric(mobility_dff['IFR'], errors='coerce')\n",
    "# Collect data for 300 K temperature only\n",
    "mobility_dff_300k = mobility_dff[mobility_dff['T'] == 300].copy()"
   ]
  },
  {
   "cell_type": "code",
   "execution_count": null,
   "id": "ae5642fd-bb52-4f72-b611-9c7d9386266c",
   "metadata": {},
   "outputs": [],
   "source": [
    "mobility_dff_300k['2DEG'] =  mobility_dff_300k['2DEG_device']/rescale_2deg_fact\n",
    "mobility_dff_300k['2DHG'] =  mobility_dff_300k['2DHG_device']/rescale_2deg_fact\n",
    "mobility_dff_300k['LFOMnorm'] = mobility_dff_300k['LFOM']/ref_LFOM"
   ]
  },
  {
   "cell_type": "code",
   "execution_count": null,
   "id": "5b2398cc-d341-42b6-b3dc-d82a482fae9e",
   "metadata": {},
   "outputs": [],
   "source": [
    "mobility_df_300k = mobility_dff_300k.copy()\n",
    "\n",
    "clean_up_mobilities = ['IFR', 'DIS', 'AD', 'AP', 'POP', 'TOT']\n",
    "XXX_ = mobility_df_300k['2DEG'] <1e-2 # Put np.nan for 2DEG densities < 1e-2\n",
    "for which_column in ['2DEG', 'LFOM', 'LFOMnorm', 'LFOM_2DEG1e13']+clean_up_mobilities:\n",
    "    mobility_df_300k.loc[XXX_, which_column] = np.nan "
   ]
  },
  {
   "cell_type": "markdown",
   "id": "2f6cec97-c610-4a92-815a-ef83710bd292",
   "metadata": {},
   "source": [
    "## 3.3 Plot AlGaN/AlGaN HEMT mobilities"
   ]
  },
  {
   "cell_type": "code",
   "execution_count": null,
   "id": "43da4f08-7679-46b4-a1cb-54d38e564212",
   "metadata": {},
   "outputs": [],
   "source": [
    "tick_multiplicator = [0.1, 0.05, 0.1, 0.05]"
   ]
  },
  {
   "cell_type": "code",
   "execution_count": null,
   "id": "fd6daedb-a1d6-4a7a-aedb-069004fa11b7",
   "metadata": {},
   "outputs": [],
   "source": [
    "df_cap_thickness_group = mobility_df_300k.groupby(['ThicknessAlGaNBarrier']) # Group by thickness"
   ]
  },
  {
   "cell_type": "markdown",
   "id": "7ad1b8c4-6e3b-49e1-8400-6516927450d5",
   "metadata": {},
   "source": [
    "### 3.3.1 All contributions together"
   ]
  },
  {
   "cell_type": "code",
   "execution_count": null,
   "id": "8f83b884-af8b-410b-867c-4022bcc1efdd",
   "metadata": {},
   "outputs": [],
   "source": [
    "lpltq3d = PlotQuasi3DFuns(save_figure_dir=f'{save_figure_dir}/Together')"
   ]
  },
  {
   "cell_type": "code",
   "execution_count": null,
   "id": "275fe4c3-c6c6-4edb-9e32-4c7a7fcbbb62",
   "metadata": {
    "scrolled": true
   },
   "outputs": [],
   "source": [
    "fig_ncols, fig_nrows = 3, 3\n",
    "for name, group in df_cap_thickness_group:\n",
    "    barrier_thickness = f'{name[0]:.2f}'\n",
    "    print(f'- Plotting barrier thickness = {barrier_thickness} nm')\n",
    "    fig, axs = plt.subplots(fig_ncols, fig_nrows, figsize=(16.,12.5), \n",
    "                            sharey=True,constrained_layout=True)    \n",
    "    for ii in range(fig_ncols*fig_nrows):\n",
    "        if ii < len(plot_mobilities):\n",
    "            which_mobility = plot_mobilities[ii]\n",
    "        else:\n",
    "            #axs[ii//3][ii%3].axis(\"off\") \n",
    "            continue\n",
    "        print(f'\\t-- Plotting {which_mobility}...')\n",
    "        xx, yy, zz = group['AlContentChannel'], group['AlContentBarrier'], group[which_mobility]\n",
    "        vmax = min(mobility_df_300k[which_mobility].max(numeric_only=True), 1e10)\n",
    "        vmin = mobility_df_300k[which_mobility].min(numeric_only=True) if which_mobility in ['2DEG', 'LFOM', 'LFOMnorm'] else 20\n",
    "        #vmin, vmax = zz.min()+1e-20, zz.max()\n",
    "        norm = colors.Normalize(vmin=vmin, vmax=vmax) if which_mobility in ['LFOMnorm','2DEG'] else colors.LogNorm(vmin=vmin, vmax=vmax)\n",
    "        cbar_mapable = cm.ScalarMappable(norm=norm, cmap='viridis')\n",
    "        x_label_text_ = x_p_label_text #if ii-6>=0 else ''\n",
    "        y_label_text_ = x_label_text #if ii%3==0 else ''\n",
    "        z_label_ = ''\n",
    "        #if ii%3-2==0: \n",
    "        z_label_ = f'$\\\\mu_{{\\\\mathrm{{{which_mobility}}}}}$ ($\\\\mathrm{{cm}}^2\\\\mathrm{{V}}^{{-1}}\\\\mathrm{{s}}^{{-1}}$)'\n",
    "        if which_mobility in ['2DEG']: z_label_= r'n$_{\\mathrm{2D}}$ ($\\mathrm{10}^{13}\\mathrm{cm}^{-2}$)'\n",
    "        if which_mobility in ['LFOM']: z_label_= z_label[which_mobility]\n",
    "        if which_mobility == 'LFOMnorm': z_label_= z_label[f'{which_mobility}_2'] \n",
    "        \n",
    "\n",
    "        ##### Plot composition map \n",
    "        fig, axt = lpltq3d.Plotq3D(xx,yy,zz, fig=fig, ax=axs[ii//3][ii%3],\n",
    "                                 xmin=0.475, xmax=0.975, ymin=0.525, ymax=1.025,\n",
    "                                 x_label='', y_label=y_label_text_,\n",
    "                                 interpolation_method='linear',\n",
    "                                 interpolation_points = 20,\n",
    "                                 tick_multiplicator=tick_multiplicator,\n",
    "                                 title_label=None, #which_mobility,\n",
    "                                 cbar_mappable=cbar_mapable, norm=norm,\n",
    "                                 show_contour_lines=False, marker='s', marker_size=24**2,\n",
    "                                 cbar_text=z_label_,show_colorbar=False,\n",
    "                                 plot_controur=0, plot_scatter=1,\n",
    "                                 savefigure=False, show_plot=False)\n",
    "        #plt.suptitle(f\"Barrier thickness = {barrier_thickness} nm\", size=24)\n",
    "        axt.set_xlabel(x_label_text_, size=18)\n",
    "        axt.set_ylabel(y_label_text_, size=18)\n",
    "        cbar = fig.colorbar(cbar_mapable, ax=axt)         \n",
    "        cbar.ax.set_ylabel(z_label_, size=18)\n",
    "        #if ii%3 != 0: axs[ii//3][ii%3].get_yaxis().set_visible(False)\n",
    "    lpltq3d.save_figure(f'Barrier_{barrier_thickness}.{FigFormat}', savefig=savefigure, show_plot=True,\n",
    "                        fig=fig, CountFig=None, dpi=fig_save_dpi)\n",
    "    print('- Done', flush=True)\n",
    "    #break"
   ]
  },
  {
   "cell_type": "markdown",
   "id": "8115ac2b-9dad-42e6-9028-ee8d01d7cddc",
   "metadata": {},
   "source": [
    "### 3.3.2 Individual plots"
   ]
  },
  {
   "cell_type": "code",
   "execution_count": null,
   "id": "95ed7eea-35a6-4e7d-9ae1-c4b658761914",
   "metadata": {},
   "outputs": [],
   "source": [
    "lpltq3d = PlotQuasi3DFuns(save_figure_dir=f'{save_figure_dir}/Individual')"
   ]
  },
  {
   "cell_type": "code",
   "execution_count": null,
   "id": "addf8d30-677b-492d-b46e-47291c98144a",
   "metadata": {
    "scrolled": true
   },
   "outputs": [],
   "source": [
    "for name, group in df_cap_thickness_group:\n",
    "    #if name[0] < 49: continue\n",
    "    barrier_thickness = f'{name[0]:.2f}'\n",
    "    print(f'- Plotting barrier thickness = {barrier_thickness} nm')\n",
    "    for which_mobility in plots_list_individual:\n",
    "        print(f'\\t-- Plotting {which_mobility}...')\n",
    "        xx, yy, zz = group['AlContentChannel'], group['AlContentBarrier'], group[which_mobility]\n",
    "        vmax = min(mobility_df_300k[which_mobility].max(numeric_only=True), 1e10)\n",
    "        vmin = mobility_df_300k[which_mobility].min(numeric_only=True) #if which_mobility in ['2DEG', 'LFOMnorm', 'R'] else 20 \n",
    "        norm = colors.Normalize(vmin=vmin, vmax=vmax) if which_mobility in ['2DEG', '2DHG', 'LFOMnorm', 'TOT'] else colors.LogNorm(vmin=vmin, vmax=vmax)\n",
    "        cbar_mapable = cm.ScalarMappable(norm=norm, cmap=color_map_plot)\n",
    "        z_label_= z_label[which_mobility]\n",
    "        if which_mobility == 'LFOMnorm': z_label_= z_label[f'{which_mobility}_2'] \n",
    "        FigFormat_tmp = FigFormatPaper if which_mobility in ['2DEG','2DHG'] else FigFormat\n",
    "        ##### Plot composition map \n",
    "        _ = lpltq3d.Plotq3D(xx, yy, zz, x_label=x_p_label_text, y_label=x_label_text,\n",
    "                            xmin=0.475, xmax=0.975, ymin=0.525, ymax=1.025,\n",
    "                            interpolation_method='linear', interpolation_points = 20,\n",
    "                            tick_multiplicator=tick_multiplicator, norm=norm,color_map=color_map_plot,\n",
    "                            cbar_mappable=cbar_mapable, show_contour_lines=1,\n",
    "                            marker='s', marker_size=38**2, cbar_text=z_label_,\n",
    "                            show_colorbar=True, plot_controur=0, plot_scatter=1,\n",
    "                            save_file_name=f'Barrier_{barrier_thickness}_{which_mobility}.{FigFormat_tmp}',\n",
    "                            savefigure=savefigure, show_plot=False, dpi=fig_save_dpi)\n",
    "    print('- Done', flush=True)\n",
    "    #break"
   ]
  },
  {
   "cell_type": "code",
   "execution_count": null,
   "id": "16370cca-6e89-4c34-ad47-2effda40e353",
   "metadata": {},
   "outputs": [],
   "source": [
    "#### This is specific for plottings for paper\n",
    "for name, group in df_cap_thickness_group:\n",
    "    barrier_thickness = f'{name[0]:.2f}'\n",
    "    if name[0] < 49: continue\n",
    "    for which_mobility in ['2DEG', 'TOT', 'LFOMnorm', 'LFOM']: #\n",
    "        xx, yy, zz = group['AlContentChannel'], group['AlContentBarrier'], group[which_mobility]\n",
    "        vmax = min(zz.max(numeric_only=True), 1e10)\n",
    "        vmin = zz.min(numeric_only=True) #if which_mobility in ['2DEG', 'LFOMnorm', 'R'] else 20 \n",
    "        norm = colors.Normalize(vmin=vmin, vmax=vmax) if which_mobility in ['2DEG', 'LFOMnorm', 'LFOM', 'TOT'] else colors.LogNorm(vmin=vmin, vmax=vmax)\n",
    "        cbar_mapable = cm.ScalarMappable(norm=norm, cmap=color_map_plot)\n",
    "        z_label_= z_label[which_mobility]\n",
    "        if which_mobility == 'LFOMnorm': z_label_= z_label[f'{which_mobility}_2'] \n",
    "        show_colorbar_ = True\n",
    "        savefigure_ = savefigure\n",
    "        if which_mobility in ['LFOM','R']:\n",
    "            show_colorbar_=False\n",
    "            savefigure_ = False\n",
    "        figsize=(7.9,6)\n",
    "        if which_mobility in ['TOT']: figsize=(8.1,6)\n",
    "        fig, ax = plt.subplots(figsize=figsize, constrained_layout=True)\n",
    "        ##### Plot composition map \n",
    "        fig, ax = lpltq3d.Plotq3D(xx, yy, zz, fig=fig, ax=ax, x_label=x_p_label_text, y_label=x_label_text,\n",
    "                            xmin=0.475, xmax=0.975, ymin=0.525, ymax=1.025,\n",
    "                            interpolation_method='linear', interpolation_points = 100,\n",
    "                            tick_multiplicator=tick_multiplicator, norm=norm,color_map=color_map_plot,\n",
    "                            cbar_mappable=cbar_mapable, show_contour_lines=1,\n",
    "                            marker='s', marker_size=38**2, cbar_text=z_label_,\n",
    "                            show_colorbar=show_colorbar_, plot_controur=0, plot_scatter=1,\n",
    "                            save_file_name=f'Barrier_{barrier_thickness}_{which_mobility}_Paper.{FigFormatPaper}',\n",
    "                            savefigure=savefigure_, show_plot=False, dpi=fig_save_dpi)\n",
    "        if which_mobility in ['LFOM']:\n",
    "            cbar = fig.colorbar(cbar_mapable, ax=ax)         \n",
    "            cbar.ax.set_ylabel(z_label_)\n",
    "            cbar.formatter.set_powerlimits((0, 0))\n",
    "            # to get 10^3 instead of 1e3\n",
    "            cbar.formatter.set_useMathText(True)\n",
    "            cbar.ax.yaxis.set_offset_position('left')\n",
    "            cbar.update_ticks()\n",
    "\n",
    "        lpltq3d.save_figure(f'Barrier_{barrier_thickness}_{which_mobility}_Paper.{FigFormatPaper}', \n",
    "                            savefig=not savefigure_, show_plot=False, fig=fig, CountFig=None, dpi=fig_save_dpi) \n",
    "        \n",
    "    print('- Done', flush=True)\n",
    "    #break"
   ]
  },
  {
   "cell_type": "code",
   "execution_count": null,
   "id": "3a4a9828-bd38-4be1-869c-7c404f2b56e9",
   "metadata": {},
   "outputs": [],
   "source": [
    "plt.close('all')"
   ]
  },
  {
   "cell_type": "code",
   "execution_count": null,
   "id": "cc95b266-59b7-4a41-89dc-8efb23eaa41b",
   "metadata": {},
   "outputs": [],
   "source": [
    "plt2deg = Plottings(save_figure_dir=f'{save_figure_dir}/Others')"
   ]
  },
  {
   "cell_type": "code",
   "execution_count": null,
   "id": "0ad292e2-9c63-4eb6-a60f-9f10284aa5b1",
   "metadata": {},
   "outputs": [],
   "source": [
    "output_dataframe = {}\n",
    "fig, ax = plt.subplots(figsize=(8,7))\n",
    "tick_multiplicator = [0.1, 0.05, 1, 0.5]\n",
    "markers_ = ['o', '*', 'd', '^', 's', 'p']*3\n",
    "ii=0\n",
    "for name, group in mobility_dff_300k.groupby(['ThicknessAlGaNBarrier']):\n",
    "    output_dataframe[f'{name[0]:.2f}'] = {}\n",
    "    group['AlContentContrast'] = (group['AlContentBarrier'] - group['AlContentChannel']) #/ group['AlContentChannel']\n",
    "    \n",
    "    #=====================================================================================\n",
    "    if name[0] in [5,10,20,50]:\n",
    "        ax.scatter(group['AlContentContrast'], group['2DEG'], marker=markers_[ii],label=f'{name[0]:.2f} nm',s=100)\n",
    "        ii+=1\n",
    "    \n",
    "    #=====================================================================================\n",
    "    tmp_df = group[group[f'2DEG']>0.01]\n",
    "    A = np.vstack([tmp_df['AlContentContrast'], np.ones(len(tmp_df))]).T\n",
    "    m, c = np.linalg.lstsq(A, tmp_df[f'2DEG'])[0]\n",
    "    y_eq_zero_point = -c/m\n",
    "    output_dataframe[f'{name[0]:.2f}'][f'2DEG_slope']       = f'{m:.3f}' \n",
    "    output_dataframe[f'{name[0]:.2f}'][f'2DEG_y_intersect'] = f'{c:.3f}'\n",
    "    output_dataframe[f'{name[0]:.2f}'][f'2DEG_x_intersect'] = f'{y_eq_zero_point:.3f}'\n",
    "    new_x = np.insert(np.array(tmp_df['AlContentContrast']),0,y_eq_zero_point)\n",
    "    #ax.plot(new_x, m*new_x + c, 'gray')\n",
    "    if name[0] in [5,10,20,50]: \n",
    "        ax.plot(new_x, m*new_x + c, 'gray')\n",
    "    \n",
    "    ax.legend(ncols=1, labelspacing=0.001, columnspacing=0.1, handletextpad=0.01)\n",
    "    ax.set_xlabel('Al composition contrast, $\\\\Delta_{yx}$')\n",
    "    ax.set_ylabel(z_label['2DEG'])\n",
    "    ax.axhline(color='k',ls='--')\n",
    "ax.axhline(y=1, c='c', ls='--')\n",
    "ax.set_xlim(0.05,0.5)\n",
    "plt2deg.set_tickers(ax, tick_multiplicator)\n",
    "circle = Ellipse((0.35,1.6), width=0.025, height=0.35, \n",
    "                        edgecolor='r', fc='None', lw=2)\n",
    "ax.add_patch(circle)\n",
    "plt2deg.save_figure(f'Comp_contrast_thickness_2DEG.{FigFormatPaper}', savefig=savefigure, show_plot=True,\n",
    "                    fig=fig, CountFig=None, dpi=fig_save_dpi)      "
   ]
  },
  {
   "cell_type": "code",
   "execution_count": null,
   "id": "0e6ac499-b526-479d-ad28-609cfb4da82f",
   "metadata": {},
   "outputs": [],
   "source": [
    "#=============================================================================================\n",
    "output_data = pd.DataFrame.from_dict(output_dataframe, orient='index', dtype=float)\n",
    "## Plot cut-off composition contrast for each barrier thickness\n",
    "tick_multiplicator = [0.1, 0.05,10,5]\n",
    "XX = np.array(output_data.index, dtype=float)\n",
    "YY = np.array(output_data['2DEG_x_intersect'], dtype=float)\n",
    "fig, axs = plt.subplots(constrained_layout=True)\n",
    "axs.plot(YY, XX, 'ko-', ms=12)\n",
    "#axs.set_yscale('log')\n",
    "#axs.set_ylabel('Critical barrier thickness (nm)')\n",
    "#axs.set_xlabel('Critical composition contrast')\n",
    "#axs.legend(bbox_to_anchor=(1, 0.5),loc='center left', title='Al-content') \n",
    "axs.set_xlim(0.05, 0.54)\n",
    "plt2deg.set_tickers(axs, tick_multiplicator)\n",
    " \n",
    "\n",
    "fit_intercept = np.array(output_data['2DEG_y_intersect'], dtype=float)\n",
    "fit_slope = np.array(output_data['2DEG_slope'], dtype=float)\n",
    "YY = (1 - fit_intercept)/fit_slope\n",
    "axs.plot(YY, XX, 'cs-', ms=12)\n",
    "#axs.set_yscale('log')\n",
    "axs.set_ylabel('Critical barrier thickness (nm)')\n",
    "#axs.set_ylabel('Barrier thickness, L$_\\\\mathrm{B}$ (nm)')\n",
    "axs.set_xlabel('Al composition contrast, $\\\\Delta_{yx}$')\n",
    "\n",
    "plt2deg.save_figure(f'Critical_comp_contrast_2DEG.{FigFormatPaper}', savefig=savefigure, show_plot=True,\n",
    "                    fig=fig, CountFig=None, dpi=fig_save_dpi) \n",
    "\n",
    "# _ = lplt1d.PlotSweepsData(XX, YY, x_label=, y_label=,\n",
    "#                           tick_multiplicator=tick_multiplicator,\n",
    "#                           FigDpi=FigDpi, FigFormat=FigFormat, color='k', marker='o',\n",
    "#                           figs_path=f'{output_figs_sweep}/Others', filename=f'Critical_comp_contrast_2DEG',\n",
    "#                           savefigure=savefigure)"
   ]
  },
  {
   "cell_type": "markdown",
   "id": "fd69b55a-a4be-4c0d-8b49-4950bbc7e801",
   "metadata": {},
   "source": [
    "## 3.4 Plots for AlN/AlGaN"
   ]
  },
  {
   "cell_type": "code",
   "execution_count": null,
   "id": "1d3b8ad1-1979-45ef-93fe-dd7b444f65ea",
   "metadata": {},
   "outputs": [],
   "source": [
    "plt2deg = Plottings(save_figure_dir=f'{save_figure_dir}/Others')"
   ]
  },
  {
   "cell_type": "markdown",
   "id": "69b9f772-a584-4cfb-aeea-c88019d31162",
   "metadata": {},
   "source": [
    "### 3.4.1 Mobility plot"
   ]
  },
  {
   "cell_type": "code",
   "execution_count": null,
   "id": "c7b4fbcb-8806-4c08-8f5c-592c73fb2c41",
   "metadata": {},
   "outputs": [],
   "source": [
    "mobility_df_300k_ = mobility_dff_300k[mobility_dff_300k['AlContentBarrier']>0.99]\n",
    "df_channel_comp_group = mobility_df_300k_.groupby(['AlContentChannel']) # Group by channel composition"
   ]
  },
  {
   "cell_type": "code",
   "execution_count": null,
   "id": "6bd408f2-74e3-476d-a3c1-2044e25b881d",
   "metadata": {},
   "outputs": [],
   "source": [
    "x_label = 'Barrier thickness, L$_\\\\mathrm{B}$ (nm)'\n",
    "y_label = z_label['TOT'] #r'Electron mobility ($\\mathrm{cm}^2\\mathrm{V}^{-1}\\mathrm{s}^{-1}$)'\n",
    "save_file_name_ = f'mu_Tb_AlN_AlGaN.{FigFormatPaper}'\n",
    "tick_multiplicator=[10, 5, 50, 25]\n",
    "plot_selected_compositions = ['0.50', '0.65', '0.75', '0.85', '0.90', '0.95']\n",
    "markers_ = ['o', '*', 's', '^', 'd', 'p']*3"
   ]
  },
  {
   "cell_type": "code",
   "execution_count": null,
   "id": "0551ccd9-6aa2-4acc-a0d0-0b59a954c69b",
   "metadata": {},
   "outputs": [],
   "source": [
    "fig, axs = plt.subplots(constrained_layout=True)\n",
    "ii = 0\n",
    "for name, group in df_channel_comp_group:\n",
    "    xx, zz = group['ThicknessAlGaNBarrier'],  group['TOT']\n",
    "    if f'{name[0]:0.2f}' in plot_selected_compositions: \n",
    "        axs.plot(xx, zz, '-', marker=markers_[ii],label=f'x={name[0]:.2f}', ms=12)\n",
    "        ii+=1\n",
    "#axs.set_yscale('log')\n",
    "axs.set_xlabel(x_label)\n",
    "axs.set_ylabel(y_label)\n",
    "#axs.legend(bbox_to_anchor=(1, 0.5),loc='center left', title='Al-content') \n",
    "axs.set_xlim(5,50)\n",
    "plt2deg.set_tickers(axs, tick_multiplicator)\n",
    "plt2deg.save_figure(save_file_name_, fig=fig, savefig=savefigure, dpi=fig_save_dpi, show_plot=False)"
   ]
  },
  {
   "cell_type": "code",
   "execution_count": null,
   "id": "f9d48a49-577f-492b-adec-c96a93034c93",
   "metadata": {},
   "outputs": [],
   "source": [
    "save_file_name_ = f'channel_comp_legends.{FigFormatPaper}'\n",
    "# Now create a new image with legends only\n",
    "# adjust the figure size as necessary\n",
    "fig_leg = plt.figure(figsize=(1,1))\n",
    "ax_leg = fig_leg.add_subplot(111)\n",
    "# add the legend from the previous axes\n",
    "ax_leg.legend(*axs.get_legend_handles_labels(), ncol=3, loc='center')\n",
    "# hide the axes frame and the x/y labels\n",
    "ax_leg.axis('off')\n",
    "#ax_leg.set_frame_on(False)\n",
    "plt2deg.save_figure(save_file_name_, fig=fig_leg, savefig=savefigure, dpi=fig_save_dpi, show_plot=False)"
   ]
  },
  {
   "cell_type": "code",
   "execution_count": null,
   "id": "dbf45474-22d3-45a0-b52b-4316601461bf",
   "metadata": {},
   "outputs": [],
   "source": [
    "fig, axs = plt.subplots(constrained_layout=True) #figsize=(9.5,6)\n",
    "ii = 0\n",
    "for name, group in df_channel_comp_group:\n",
    "    if name[0]< 0.74 or name[0]> 0.91: \n",
    "        axs.plot([None], [None], label=None)\n",
    "        continue\n",
    "    xx, zz = group['ThicknessAlGaNBarrier'],  group['TOT']\n",
    "    axs.plot(xx, zz, '-', marker=markers_[ii],label=f'{name[0]:.2f}', ms=12)\n",
    "    ii+=1\n",
    "#axs.set_yscale('log')\n",
    "axs.set_xlabel(x_label)\n",
    "axs.set_ylabel(y_label)\n",
    "#axs.legend(bbox_to_anchor=(1, 0.5),loc='center left') \n",
    "plt2deg.set_tickers(axs, tick_multiplicator)\n",
    "axs.set_xlim(5,50)\n",
    "plt2deg.save_figure(f'zoom_{save_file_name_}', fig=fig, savefig=savefigure, dpi=fig_save_dpi, show_plot=False)"
   ]
  },
  {
   "cell_type": "markdown",
   "id": "71530d3d-5e49-4b74-aec2-d33f8533763a",
   "metadata": {},
   "source": [
    "### 3.4.2 Individual mobility contributions for AlN/Al0.9Ga0.1N"
   ]
  },
  {
   "cell_type": "code",
   "execution_count": null,
   "id": "ddb713e1-babf-415c-a444-8dcb0d1a4da3",
   "metadata": {},
   "outputs": [],
   "source": [
    "Al90Ga10N_mu_df_300k_ = mobility_df_300k_[(mobility_df_300k_['AlContentChannel']>0.89) & (mobility_df_300k_['AlContentChannel']<0.91)]"
   ]
  },
  {
   "cell_type": "code",
   "execution_count": null,
   "id": "03cd5814-6ab8-43c5-ada0-0d9946cd0c3b",
   "metadata": {},
   "outputs": [],
   "source": [
    "fig, axs = plt.subplots(figsize=(9.5,6),constrained_layout=True)\n",
    "ii=0\n",
    "for name in plot_mobilities[:-3]:\n",
    "    axs.plot(Al90Ga10N_mu_df_300k_['ThicknessAlGaNBarrier'], Al90Ga10N_mu_df_300k_[name], '-', marker=markers_[ii],label=f'{name}', ms=12)\n",
    "    ii+=1\n",
    "axs.set_yscale('log')\n",
    "axs.set_xlabel(x_label)\n",
    "axs.set_ylabel(y_label)\n",
    "axs.legend(bbox_to_anchor=(1, 0.5),loc='center left') \n",
    "axs.set_ylim(100, 100000)\n",
    "axs.set_xlim(5,50)\n",
    "plt2deg.set_tickers(axs, [10,5,None, None])\n",
    "plt2deg.save_figure(f'mu_contibs_Tb_AlN_Al0.9Ga0.1N.{FigFormat}', fig=fig, savefig=savefigure, dpi=fig_save_dpi, show_plot=False)"
   ]
  },
  {
   "cell_type": "markdown",
   "id": "ef34f703-b9c0-4dc6-9ea0-ad8fb3aa42bb",
   "metadata": {},
   "source": [
    "### 3.4.3 FOM plot"
   ]
  },
  {
   "cell_type": "code",
   "execution_count": null,
   "id": "16c2d768-cfb0-419d-bb7f-e477eea6ac55",
   "metadata": {},
   "outputs": [],
   "source": [
    "x_label = x_label_text_2d\n",
    "y_label = z_label['LFOMnorm_2']\n",
    "save_file_name_ = f'lfom_Tb_AlN_AlGaN.{FigFormatPaper}'\n",
    "tick_multiplicator=[10, 5, 0.5, 0.25]"
   ]
  },
  {
   "cell_type": "code",
   "execution_count": null,
   "id": "20fb70a6-24cb-4ec0-af2d-f876eb5f9463",
   "metadata": {},
   "outputs": [],
   "source": [
    "fig, axs = plt.subplots(constrained_layout=True)\n",
    "ii=0\n",
    "for name, group in df_channel_comp_group:\n",
    "    xx, zz = group['ThicknessAlGaNBarrier'],  group['LFOMnorm']\n",
    "    if f'{name[0]:0.2f}' in plot_selected_compositions:\n",
    "        axs.plot(xx, zz, '-', marker=markers_[ii],label=f'{name[0]:.2f}', ms=12)\n",
    "        ii+=1\n",
    "#axs.set_yscale('log')\n",
    "axs.set_xlabel(x_label)\n",
    "axs.set_ylabel(y_label)\n",
    "axs.axhline(y=1.0, c='k', ls='--')\n",
    "#axs.legend(bbox_to_anchor=(1, 0.5),loc='center left') \n",
    "plt2deg.set_tickers(axs, tick_multiplicator)\n",
    "axs.set_xlim(5,50)\n",
    "plt2deg.save_figure(save_file_name_, fig=fig, savefig=savefigure, dpi=fig_save_dpi, show_plot=False)"
   ]
  },
  {
   "cell_type": "code",
   "execution_count": null,
   "id": "e6ef6540-05ab-43bd-a4f7-f8e0ffb43f6e",
   "metadata": {},
   "outputs": [],
   "source": [
    "fig, axs = plt.subplots(constrained_layout=True)\n",
    "ii=0\n",
    "for name, group in df_channel_comp_group:\n",
    "    if name[0]< 0.74 or name[0]> 0.91: \n",
    "        axs.plot([None], [None])\n",
    "        continue\n",
    "    xx, zz = group['ThicknessAlGaNBarrier'],  group['LFOMnorm']\n",
    "    axs.plot(xx, zz, '-', marker=markers_[ii],label=f'{name[0]:.2f}', ms=12)\n",
    "    ii+=1\n",
    "#axs.set_yscale('log')\n",
    "axs.axhline(y=1.0, c='k', ls='--')\n",
    "axs.set_xlabel(x_label)\n",
    "axs.set_ylabel(y_label)\n",
    "#axs.legend(bbox_to_anchor=(1, 0.5),loc='center left') \n",
    "plt2deg.set_tickers(axs, tick_multiplicator)\n",
    "axs.set_xlim(5,50)\n",
    "plt2deg.save_figure(f'zoom_{save_file_name_}', fig=fig, savefig=savefigure, dpi=fig_save_dpi, show_plot=False)"
   ]
  },
  {
   "cell_type": "markdown",
   "id": "e72f8e39-6496-482a-a245-770c1e8018e1",
   "metadata": {},
   "source": [
    "### 3.4.4 2DEG density plot"
   ]
  },
  {
   "cell_type": "code",
   "execution_count": null,
   "id": "28b88e3c-1605-4025-9074-f80ed0d8a28a",
   "metadata": {},
   "outputs": [],
   "source": [
    "x_label = x_label_text_2d\n",
    "y_label = z_label['2DEG']\n",
    "save_file_name_ = f'deg_Tb_AlN_AlGaN.{FigFormatPaper}'\n",
    "tick_multiplicator=[10, 5, None, None]"
   ]
  },
  {
   "cell_type": "code",
   "execution_count": null,
   "id": "f82bc883-2018-4af8-8ca1-73523c3b7838",
   "metadata": {},
   "outputs": [],
   "source": [
    "fig, axs = plt.subplots(figsize=(8,6),constrained_layout=True)\n",
    "ii=0\n",
    "for name, group in df_channel_comp_group:\n",
    "    xx, zz = group['ThicknessAlGaNBarrier'],  group['2DEG']\n",
    "    if f'{name[0]:0.2f}' in plot_selected_compositions:\n",
    "        axs.plot(xx, zz, '-', marker=markers_[ii],label=f'{name[0]:.2f}', ms=12)\n",
    "        ii+=1\n",
    "#axs.set_yscale('log')\n",
    "axs.set_xlabel(x_label)\n",
    "axs.set_ylabel(y_label)\n",
    "axs.axhline(y=1.0, c='k', ls='--')\n",
    "#axs.legend(bbox_to_anchor=(1, 0.5),loc='center left') \n",
    "plt2deg.set_tickers(axs, tick_multiplicator)\n",
    "axs.set_xlim(5,50)\n",
    "plt2deg.save_figure(save_file_name_, fig=fig, savefig=savefigure, dpi=fig_save_dpi, show_plot=False)"
   ]
  },
  {
   "cell_type": "code",
   "execution_count": null,
   "id": "c3efef8c-6d42-4a20-92f8-d599bfcb339f",
   "metadata": {},
   "outputs": [],
   "source": [
    "fig, axs = plt.subplots(figsize=(8,6),constrained_layout=True)\n",
    "ii=0\n",
    "for name, group in df_channel_comp_group:\n",
    "    xx, zz = group['ThicknessAlGaNBarrier'],  group['2DEG']\n",
    "    if f'{name[0]:0.2f}' in ['0.50']: \n",
    "        axs.plot(xx, zz, 'r-', marker=markers_[ii],label=f'{name[0]:.2f}', ms=12)\n",
    "        ii+=1\n",
    "axs.set_xlabel(x_label_text_2d)\n",
    "axs.set_ylabel(y_label)\n",
    "axs.axhline(y=1.0, c='k', ls='--')\n",
    "#axs.legend(bbox_to_anchor=(1, 0.5),loc='center left') \n",
    "plt2deg.set_tickers(axs, [10, 5, None, None])\n",
    "#axs.set_xlim(5,50)\n",
    "plt2deg.save_figure(f'two_deg_Tb_AlN_Al0.50GaN.{FigFormatPaper}', fig=fig, savefig=savefigure, dpi=fig_save_dpi, show_plot=False)"
   ]
  },
  {
   "cell_type": "markdown",
   "id": "84985f83-71a1-4a3c-8171-d8384b43c6e8",
   "metadata": {},
   "source": [
    "### 3.4.5 Mobility contributions for AlN(50nm)/AlGaN"
   ]
  },
  {
   "cell_type": "code",
   "execution_count": null,
   "id": "d3986d69-75bc-4278-9354-766e6ebf64fb",
   "metadata": {},
   "outputs": [],
   "source": [
    "aln_algan_300k = mobility_dff_300k[(mobility_dff_300k['AlContentBarrier']>0.99) & (mobility_dff_300k['ThicknessAlGaNBarrier']>49)]\n",
    "aln_algan_dff = aln_algan_300k[['AlContentChannel','IFR','AD','DIS','DP','PE','AP','POP','TOT']].copy()\n",
    "aln_algan_dff.rename(columns={'AlContentChannel':'comp'}, inplace=True)\n",
    "\n",
    "x_label = x_p_label_text\n",
    "y_label = z_label['TOT']\n",
    "save_file_name_ = f'mu_AlN50_AlGaN.{FigFormatPaper}'\n",
    "tick_multiplicator=[0.1, 0.05, None, None]"
   ]
  },
  {
   "cell_type": "code",
   "execution_count": null,
   "id": "4c1bd444-79d4-44e6-9e7d-132d26dd926a",
   "metadata": {},
   "outputs": [],
   "source": [
    "# Mobility contributions at 300K\n",
    "save_file_name_ = f'Mobility_contribs_AlN50AlGaN_300K.{FigFormatPaper}'\n",
    "x_label = x_p_label_text\n",
    "y_label = z_label['TOT']\n",
    "fig, ax,_ = plt2deg.plot_2d_carrier_mobilities(aln_algan_dff, save_file_name=save_file_name_,\n",
    "                                               ymin=5e1, ymax=2e5, xmax=0.9, xmin=0.5, y_scale_log=True, \n",
    "                                               annotate_pos=(2,2), annotatetextoffset=(0,-20),show_right_ticks=True,\n",
    "                                               mode='2d_carrier_mobility', yaxis_label=y_label, xaxis_label=x_label,\n",
    "                                               color=None, color_map='viridis', savefig=0, show_plot=False)\n",
    "plt2deg.set_tickers(ax, tick_multiplicator)\n",
    "plt2deg.save_figure(save_file_name_, fig=fig, savefig= savefigure, dpi=fig_save_dpi, show_plot=False)"
   ]
  },
  {
   "cell_type": "code",
   "execution_count": null,
   "id": "a57478b4-f73e-4ee8-ab4f-1d77c738b249",
   "metadata": {},
   "outputs": [],
   "source": [
    "fig, ax = plt.subplots(figsize=(9,6), constrained_layout=True)\n",
    "XX = np.array(aln_algan_300k['AlContentChannel'], dtype=float)\n",
    "ax.plot(XX, aln_algan_300k['2DEG_device']/rescale_2deg_fact, 'o-', c='k')\n",
    "ax.set_xlim(0.5,0.9)\n",
    "ax.set_xlabel(x_p_label_text)\n",
    "ax.set_ylabel(z_label['2DEG'])\n",
    "plt2deg.set_tickers(ax, tick_multiplicator)\n",
    "\n",
    "# Plotting mobility\n",
    "ax2 = ax.twinx() \n",
    "ax2.plot(XX, aln_algan_300k['TOT'], 'o-', c='r')\n",
    "\n",
    "# Plotting bandgap\n",
    "bandgap_ = (6.20*XX + 3.43*(1-XX) + 0.7*XX*(1-XX))**5 \n",
    "ax2.plot(XX, bandgap_, 'o-', c='m')\n",
    "\n",
    "ax2.set_ylabel(z_label['TOT'], c='r')\n",
    "ax2.set_yscale('log')\n",
    "ax2.set_ylim(ymin=70, ymax=1e4)\n",
    "ax2.annotate(r'E$_\\mathrm{g}^{5}$', xy=(XX[3], bandgap_[3]+1e3), color='m')\n",
    "\n",
    "# Plotting LFOM\n",
    "LFOM_300k = np.array(aln_algan_300k['LFOM'], dtype=float)/ref_LFOM \n",
    "ax.plot(XX, LFOM_300k, 'o-', c='b')\n",
    "ax.annotate(r'LFOM$_{\\mathrm{norm}}$', xy=(XX[3], LFOM_300k[3]-0.2), color='b')\n",
    "\n",
    "plt2deg.save_figure(f'AlN50AlGaN_300K_mu_FOM.{FigFormat}', savefig=savefigure, show_plot=True,\n",
    "                    fig=fig, CountFig=None, dpi=fig_save_dpi)"
   ]
  },
  {
   "cell_type": "code",
   "execution_count": null,
   "id": "b6a0ef20-a5b7-4913-b207-38841961aaa8",
   "metadata": {},
   "outputs": [],
   "source": [
    "fig, ax = plt.subplots(figsize=(8,6), constrained_layout=True)\n",
    "XX = np.array(aln_algan_300k['AlContentChannel'], dtype=float)\n",
    "yy_2deg_density = np.array(aln_algan_300k['2DEG_device']/rescale_2deg_fact, dtype=float)\n",
    "ax.plot(XX, yy_2deg_density, 's-.', c='g', ms=12)\n",
    "ax.axhline(y=1, c='k', ls='--')\n",
    "ax.annotate(z_label['2DEG'][14:], xy=(XX[3], yy_2deg_density[3]+0.08), color='g')\n",
    "circle0 = Ellipse((XX[2], yy_2deg_density[2]), width=0.015, height=0.2, \n",
    "                        edgecolor='g', fc='None', lw=2)\n",
    "ax.add_patch(circle0)\n",
    "ax.annotate(\"\", xy=(XX[2]-0.05, yy_2deg_density[2]-0.1), xytext=(XX[2], yy_2deg_density[2]-0.1),\n",
    "             arrowprops=dict(arrowstyle=\"->\",color='g', linewidth=2))\n",
    "ax.set_xlim(0.5,0.9)\n",
    "ax.set_xlabel(x_p_label_text)\n",
    "ax.set_ylabel('')\n",
    "plt2deg.set_tickers(ax, tick_multiplicator)\n",
    "\n",
    "#=========================================================================\n",
    "ax2 = ax.twinx() \n",
    "ax2.set_ylabel('', c='r')\n",
    "ax2.set_yscale('log')\n",
    "ax2.set_ylim(ymin=50, ymax=1e4)\n",
    "\n",
    "# Plotting mobility\n",
    "yy_mobility = np.array(aln_algan_300k['TOT'], dtype=float)\n",
    "ax2.plot(XX, yy_mobility, '*-.', c='c', ms=12)\n",
    "ax2.annotate(z_label['TOT'][15:], xy=(XX[3], yy_mobility[3]-25), color='c')\n",
    "circle1 = Ellipse((XX[6], yy_mobility[6]), width=0.014, height=30, \n",
    "                        edgecolor='c', fc='None', lw=2)\n",
    "ax2.add_patch(circle1)\n",
    "ax2.annotate(\"\", xy=(XX[6]+0.05, yy_mobility[6]-15), xytext=(XX[6], yy_mobility[6]-15),\n",
    "             arrowprops=dict(arrowstyle=\"->\",color='c', linewidth=2))\n",
    "\n",
    "# Plotting bandgap\n",
    "bandgap_ = (6.25*XX + 3.51*(1-XX) + 0.7*XX*(1-XX))**5 \n",
    "ax2.plot(XX, bandgap_, '^-.', c='m', ms=12)\n",
    "ax2.annotate(r'E$_\\mathrm{g}^{5}$ (eV$^{5}$)', xy=(XX[3], bandgap_[3]+1.2e3), color='m')\n",
    "circle2 = Ellipse((XX[6], bandgap_[6]), width=0.015, height=1.6e3, \n",
    "                        edgecolor='m', fc='None', lw=2)\n",
    "ax2.add_patch(circle2)\n",
    "ax2.annotate(\"\", xy=(XX[6]+0.05, bandgap_[3]+1.e3), xytext=(XX[6], bandgap_[3]+1.e3),\n",
    "             arrowprops=dict(arrowstyle=\"->\",color='m', linewidth=2))\n",
    "\n",
    "# Plotting LFOM\n",
    "LFOM_300k = np.array(aln_algan_300k['LFOM'], dtype=float)/ref_LFOM \n",
    "ax.plot(XX, LFOM_300k, 'o-', c='r', ms=12)\n",
    "ax.annotate(r'LFOM$^{\\mathrm{B}}_{\\mathrm{norm}}$', xy=(XX[1], LFOM_300k[1]+0.3), color='r')\n",
    "circle3 = Ellipse((XX[2], LFOM_300k[2]), width=0.015, height=0.2, \n",
    "                        edgecolor='r', fc='None', lw=2)\n",
    "ax.add_patch(circle3)\n",
    "ax.annotate(\"\", xy=(XX[2]-0.05, LFOM_300k[2]+0.1), xytext=(XX[2], LFOM_300k[2]+0.1),\n",
    "             arrowprops=dict(arrowstyle=\"->\",color='r', linewidth=2))\n",
    "\n",
    "LFOM_300k_cnst = np.array(aln_algan_300k['LFOM_2DEG1e13'], dtype=float)/ref_LFOM \n",
    "ax.plot(XX, LFOM_300k_cnst, 'd-', c='b', ms=12)\n",
    "ax.annotate(r'LFOM$^{\\mathrm{A}}_{\\mathrm{norm}}$', xy=(XX[1], LFOM_300k_cnst[1]+0.3), color='b')\n",
    "circle4 = Ellipse((XX[2], LFOM_300k_cnst[2]), width=0.015, height=0.2, \n",
    "                        edgecolor='b', fc='None', lw=2)\n",
    "ax.add_patch(circle4)\n",
    "ax.annotate(\"\", xy=(XX[2]-0.05, LFOM_300k_cnst[2]+0.1), xytext=(XX[2], LFOM_300k_cnst[2]+0.1),\n",
    "             arrowprops=dict(arrowstyle=\"->\",color='b', linewidth=2))\n",
    "\n",
    "plt2deg.set_tickers(ax, [0.1,0.05,0.5,0.25])\n",
    "\n",
    "plt2deg.save_figure(f'AlN50AlGaN_300K_mu_FOM_paper.{FigFormatPaper}', savefig=savefigure, show_plot=True,\n",
    "                    fig=fig, CountFig=None, dpi=fig_save_dpi)"
   ]
  },
  {
   "cell_type": "code",
   "execution_count": null,
   "id": "416839b9-6767-4706-abb7-87f982bcde90",
   "metadata": {},
   "outputs": [],
   "source": [
    "ii=0\n",
    "for ii in range(5):\n",
    "    fig, ax = plt.subplots(figsize=(8,6.), constrained_layout=True)\n",
    "    XX = np.array(aln_algan_300k['AlContentChannel'], dtype=float)\n",
    "\n",
    "    if ii >2:\n",
    "        yy_2deg_density = np.array(aln_algan_300k['2DEG_device']/rescale_2deg_fact, dtype=float)\n",
    "        ax.plot(XX, yy_2deg_density, 's-', c='k', ms=12)\n",
    "        ax.annotate(z_label['2DEG'][14:], xy=(XX[3], yy_2deg_density[3]+0.08), color='k')\n",
    "        circle0 = Ellipse((XX[2], yy_2deg_density[2]), width=0.015, height=0.2, \n",
    "                                edgecolor='k', fc='None', lw=2)\n",
    "        ax.add_patch(circle0)\n",
    "        ax.annotate(\"\", xy=(XX[2]-0.05, yy_2deg_density[2]-0.1), xytext=(XX[2], yy_2deg_density[2]-0.1),\n",
    "                     arrowprops=dict(arrowstyle=\"->\",color='k', linewidth=2))\n",
    "        \n",
    "    ax.axhline(y=1, c='k', ls='--')\n",
    "    ax.set_xlim(0.5,0.9)\n",
    "    ax.set_ylim(-0.12,3.55)\n",
    "    ax.set_xlabel(x_p_label_text)\n",
    "    ax.set_ylabel('')\n",
    "    plt2deg.set_tickers(ax, [0.1,0.05,0.5,0.25])\n",
    "    \n",
    "    #=========================================================================\n",
    "    ax2 = ax.twinx() \n",
    "    ax2.set_ylabel('', c='r')\n",
    "    ax2.set_yscale('log')\n",
    "    ax2.set_ylim(ymin=50, ymax=1e4)\n",
    "    \n",
    "    # Plotting mobility\n",
    "    if ii >1:\n",
    "        yy_mobility = np.array(aln_algan_300k['TOT'], dtype=float)\n",
    "        ax2.plot(XX, yy_mobility, '*-', c='c', ms=12)\n",
    "        ax2.annotate(z_label['TOT'][15:], xy=(XX[3], yy_mobility[3]-25), color='c')\n",
    "        circle1 = Ellipse((XX[6], yy_mobility[6]), width=0.014, height=30, \n",
    "                                edgecolor='c', fc='None', lw=2)\n",
    "        ax2.add_patch(circle1)\n",
    "        ax2.annotate(\"\", xy=(XX[6]+0.05, yy_mobility[6]-15), xytext=(XX[6], yy_mobility[6]-15),\n",
    "                     arrowprops=dict(arrowstyle=\"->\",color='c', linewidth=2))\n",
    "    if ii >0:\n",
    "        # Plotting bandgap\n",
    "        bandgap_ = (6.25*XX + 3.51*(1-XX) + 0.7*XX*(1-XX))**5 \n",
    "        ax2.plot(XX, bandgap_, '^-', c='m', ms=12)\n",
    "        ax2.annotate(r'E$_\\mathrm{g}^{5}$ (eV$^{5}$)', xy=(XX[3], bandgap_[3]+1.2e3), color='m')\n",
    "        circle2 = Ellipse((XX[6], bandgap_[6]), width=0.015, height=1.6e3, \n",
    "                                edgecolor='m', fc='None', lw=2)\n",
    "        ax2.add_patch(circle2)\n",
    "        ax2.annotate(\"\", xy=(XX[6]+0.05, bandgap_[3]+1.e3), xytext=(XX[6], bandgap_[3]+1.e3),\n",
    "                     arrowprops=dict(arrowstyle=\"->\",color='m', linewidth=2))\n",
    "    \n",
    "    # Plotting LFOM\n",
    "    LFOM_300k = np.array(aln_algan_300k['LFOM'], dtype=float)/ref_LFOM \n",
    "    ax.plot(XX, LFOM_300k, 'o-', c='r', ms=12)\n",
    "    ax.annotate(r'LFOM$_{\\mathrm{norm}}$', xy=(XX[1], LFOM_300k[1]+0.3), color='r')\n",
    "    circle3 = Ellipse((XX[2], LFOM_300k[2]), width=0.015, height=0.2, \n",
    "                            edgecolor='r', fc='None', lw=2)\n",
    "    ax.add_patch(circle3)\n",
    "    ax.annotate(\"\", xy=(XX[2]-0.05, LFOM_300k[2]+0.1), xytext=(XX[2], LFOM_300k[2]+0.1),\n",
    "                 arrowprops=dict(arrowstyle=\"->\",color='r', linewidth=2))\n",
    "    if ii >3:\n",
    "        LFOM_300k_cnst = np.array(aln_algan_300k['LFOM_2DEG1e13'], dtype=float)/ref_LFOM \n",
    "        ax.plot(XX, LFOM_300k_cnst, 'd-', c='b', ms=12)\n",
    "        ax.annotate(r'LFOM$^*_{\\mathrm{norm}}$', xy=(XX[1], LFOM_300k_cnst[1]+0.3), color='b')\n",
    "        circle4 = Ellipse((XX[2], LFOM_300k_cnst[2]), width=0.015, height=0.2, \n",
    "                                edgecolor='b', fc='None', lw=2)\n",
    "        ax.add_patch(circle4)\n",
    "        ax.annotate(\"\", xy=(XX[2]-0.05, LFOM_300k_cnst[2]+0.1), xytext=(XX[2], LFOM_300k_cnst[2]+0.1),\n",
    "                     arrowprops=dict(arrowstyle=\"->\",color='b', linewidth=2))\n",
    "    \n",
    "    plt2deg.save_figure(f'{ii}_AlN50AlGaN_300K_mu_FOM_paper.{FigFormat}', savefig=savefigure, show_plot=True,\n",
    "                        fig=fig, CountFig=None, dpi=fig_save_dpi)\n",
    "    ii+=1\n",
    "    #break"
   ]
  },
  {
   "cell_type": "code",
   "execution_count": null,
   "id": "88b9959f-0b89-4342-9896-5c066dfd13ab",
   "metadata": {},
   "outputs": [],
   "source": [
    "fig, ax = plt.subplots(constrained_layout=True)\n",
    "XX = np.array(aln_algan_300k['AlContentChannel'], dtype=float)\n",
    "#ax.plot(XX, aln_algan_300k['2DEG_device']/rescale_2deg_fact, 'o-', c='k')\n",
    "ax.set_xlim(0.5,0.9)\n",
    "ax.set_xlabel(x_p_label_text)\n",
    "ax.set_ylabel(z_label['2DEG'])\n",
    "plt2deg.set_tickers(ax, tick_multiplicator)\n",
    "\n",
    "# # Plotting mobility\n",
    "# ax2 = ax.twinx() \n",
    "# ax2.plot(XX, aln_algan_300k['TOT'], 'o-', c='r')\n",
    "\n",
    "# # Plotting bandgap\n",
    "# bandgap_ = (6.20*XX + 3.43*(1-XX) + 0.7*XX*(1-XX))**5 \n",
    "# ax2.plot(XX, bandgap_, 'o-', c='m')\n",
    "\n",
    "# ax2.set_ylabel(z_label['TOT'], c='r')\n",
    "# ax2.set_yscale('log')\n",
    "# ax2.set_ylim(ymin=70, ymax=1e4)\n",
    "# ax2.annotate(r'E$_\\mathrm{g}^{5}$', xy=(XX[3], bandgap_[3]+1e3), color='m')\n",
    "\n",
    "# # Plotting sheet resistance\n",
    "# R_300k = np.array(aln_algan_300k['R'], dtype=float) #/20000 #1/20000 is to rescale\n",
    "# ax2.plot(XX, R_300k, 'o-', c='g')\n",
    "# ax2.annotate(r'R', xy=(XX[3], R_300k[3]-1e3), color='g')\n",
    "\n",
    "# Plotting LFOM\n",
    "LFOM_300k = np.array(aln_algan_300k['LFOM'], dtype=float)/ref_LFOM \n",
    "ax.plot(XX, LFOM_300k, 'o-', c='r')\n",
    "LFOM_300k = np.array(aln_algan_300k['LFOM_2DEG1e13'], dtype=float)/ref_LFOM \n",
    "ax.plot(XX, LFOM_300k, 'o-', c='b')\n",
    "ax.set_ylabel(z_label['LFOMnorm_2'])\n",
    "ax.axhline(y=1, c='k', ls='--')\n",
    "#ax.annotate(r'LFOM$_{\\mathrm{norm}}$', xy=(XX[3], LFOM_300k[3]-0.2), color='b')\n",
    "\n",
    "plt2deg.save_figure(f'AlN50AlGaN_300K_mu_FOM_paper1.{FigFormat}', savefig=savefigure, show_plot=True,\n",
    "                    fig=fig, CountFig=None, dpi=fig_save_dpi)"
   ]
  },
  {
   "cell_type": "markdown",
   "id": "67248778-1e53-46a0-b6f3-7dc6357e10aa",
   "metadata": {},
   "source": [
    "# 4. 2DEG mobility plottings - temperature variation"
   ]
  },
  {
   "cell_type": "markdown",
   "id": "79659c4b-b8d1-4de6-b114-d79a1cc85723",
   "metadata": {},
   "source": [
    "## 4.1 Read mobilities, FOMs from saved database"
   ]
  },
  {
   "cell_type": "markdown",
   "id": "3d7ae523-c86a-418f-ac91-c1acfb2f9ef5",
   "metadata": {},
   "source": [
    "2DEG density negligibly depend on Temperature for both GaN- and AlGaN-channel HEMT"
   ]
  },
  {
   "cell_type": "markdown",
   "id": "5b7fe128-bce7-4ef6-9239-bf9463cf7764",
   "metadata": {},
   "source": [
    "### 4.1.1 Al0.25Ga0.75N(25nm)/GaN(305nm) HEMT LFOM for normalization"
   ]
  },
  {
   "cell_type": "code",
   "execution_count": null,
   "id": "cb890fdb-d970-4342-96e1-9916c39e3ff5",
   "metadata": {},
   "outputs": [],
   "source": [
    "mobility_ref_dff = pd.read_excel(folder_2deg_mobility_file, index_col=0, sheet_name='ref_Al25Ga75N_GaN') "
   ]
  },
  {
   "cell_type": "markdown",
   "id": "0f5b8739-2f82-4407-8c88-c3c5fe32c238",
   "metadata": {},
   "source": [
    "### 4.1.2 AlGaN/AlGaN mobilities and figure-of-merit"
   ]
  },
  {
   "cell_type": "code",
   "execution_count": null,
   "id": "66e49abe-7be3-40e7-9848-bdf4bbbcab12",
   "metadata": {},
   "outputs": [],
   "source": [
    "mobility_dff = pd.read_excel(folder_2deg_mobility_file, index_col=0, sheet_name='AlyGaN_AlxGaN') "
   ]
  },
  {
   "cell_type": "markdown",
   "id": "6872dba1-9acd-4d25-bad2-bc5f6adf4889",
   "metadata": {},
   "source": [
    "### 4.1.3 Collect AlN/AlGaN mobility and lateral figure-of-merit\n",
    "\n",
    "Note: Highest LFOM is found for AlN in Barrier and barrier thickness of 50 nm always\n",
    "\n",
    "Note: AlN/AlGaN-channel/AlN normalized LFOM are normalized w.r.t Al0.25Ga0.75N(25nm)/GaN(305nm) GaN-channel LFOM at the same temperature"
   ]
  },
  {
   "cell_type": "code",
   "execution_count": null,
   "id": "0a304727-b389-42cf-93c1-cd417f975f84",
   "metadata": {},
   "outputs": [],
   "source": [
    "mobility_dfff = {}\n",
    "for tb in [50, 25]:\n",
    "    if tb == 50:\n",
    "        mobility_df = mobility_dff[(mobility_dff['AlContentBarrier']>0.99) & (mobility_dff['ThicknessAlGaNBarrier']>49)].copy()\n",
    "    elif tb == 25:\n",
    "        mobility_df = mobility_dff[(mobility_dff['AlContentBarrier']>0.99) & (mobility_dff['ThicknessAlGaNBarrier']>24) & (mobility_dff['ThicknessAlGaNBarrier']<26)].copy()\n",
    "    else:\n",
    "        break\n",
    "    mobility_df.reset_index(drop=True, inplace=True)\n",
    "    mobility_df['2DEG'] =  mobility_df['2DEG_device']/rescale_2deg_fact\n",
    "    mobility_df['2DHG'] =  mobility_df['2DHG_device']/rescale_2deg_fact\n",
    "    mobility_df['LFOMnorm'] = np.nan\n",
    "\n",
    "    mobility_dfff[tb] = mobility_df"
   ]
  },
  {
   "cell_type": "code",
   "execution_count": null,
   "id": "b8e0b7a3-76e0-4d55-918d-ec7d5888bb6d",
   "metadata": {},
   "outputs": [],
   "source": [
    "plots_data = {}\n",
    "for tb, mobility_df in mobility_dfff.items():\n",
    "    for index, row in mobility_df.iterrows():\n",
    "        ref_LFOM = mobility_ref_dff.loc[mobility_ref_dff['T']==row['T'], 'LFOM'].iloc[0]\n",
    "        mobility_df.loc[index,'LFOMnorm'] = row['LFOM']/ref_LFOM\n",
    "\n",
    "    plots_data[tb] = {}\n",
    "    plots_data[tb]['comp_'] = np.array(mobility_df['AlContentChannel'], dtype=float)\n",
    "    plots_data[tb]['temperature_'] = np.array(mobility_df['T'], dtype=float)\n",
    "    plots_data[tb]['lfom_'] = np.array(mobility_df['LFOM'], dtype=float)\n",
    "    plots_data[tb]['lfom_norm_'] = np.array(mobility_df['LFOMnorm'], dtype=float)\n",
    "    tot_mu = np.array(mobility_df['TOT'], dtype=float)\n",
    "    tot_mu_cp = tot_mu.copy()\n",
    "    tot_mu_cp[tot_mu_cp <1] = np.nan # put to 1 below 1 cm^2V^-1s^-1 mobilities. For better plottings\n",
    "    plots_data[tb]['tot_mu'] = tot_mu_cp"
   ]
  },
  {
   "cell_type": "code",
   "execution_count": null,
   "id": "18c9d05d-7604-43f7-b1c2-b5f5708a1fa5",
   "metadata": {},
   "outputs": [],
   "source": [
    "plots_data_maxms = {}\n",
    "for tb, mobility_df in mobility_dfff.items():\n",
    "    XX, YY = [], [] # where norm_lfom > 1\n",
    "    XXX, YYY = [], [] # where norm_lform is highest at each T\n",
    "    df_group_T = mobility_df.groupby(['T'])\n",
    "    for name, group in df_group_T:\n",
    "        pp_ = group['LFOM'].argmax()\n",
    "        XXX.append(group.iloc[pp_]['AlContentChannel'])\n",
    "        YYY.append(name[0])\n",
    "        tmp_ = group[group['LFOMnorm']>1]\n",
    "        if len(tmp_) > 0:\n",
    "            XX.append(np.array(tmp_['AlContentChannel']))\n",
    "            YY.append(np.array(tmp_['T']))\n",
    "    plots_data_maxms[tb] = (np.concatenate(XX), np.concatenate(YY), XXX, YYY)"
   ]
  },
  {
   "cell_type": "markdown",
   "id": "78574d32-eb35-4317-a4fb-40a9821d7c97",
   "metadata": {},
   "source": [
    "## 4.2 Plot AlN/AlGaN HEMT mobilities and FOM"
   ]
  },
  {
   "cell_type": "code",
   "execution_count": null,
   "id": "b5586afb-4cee-442a-aa5a-7e6a052bf5d5",
   "metadata": {},
   "outputs": [],
   "source": [
    "tick_multiplicator = [0.1, 0.05, 200, 100]"
   ]
  },
  {
   "cell_type": "code",
   "execution_count": null,
   "id": "1f2c3434-db67-4ff0-8148-54e25000d00b",
   "metadata": {},
   "outputs": [],
   "source": [
    "lpltq3d = PlotQuasi3DFuns(save_figure_dir=f'{save_figure_dir}/Temperature')"
   ]
  },
  {
   "cell_type": "code",
   "execution_count": null,
   "id": "40d91040-00e2-44a6-9ae2-2e8e878a8f9b",
   "metadata": {},
   "outputs": [],
   "source": [
    "for tb in mobility_dfff:\n",
    "    comp_,temperature_,tot_mu = plots_data[tb]['comp_'], plots_data[tb]['temperature_'], plots_data[tb]['tot_mu']\n",
    "    fig, ax = plt.subplots(figsize=(8,5.5), constrained_layout=True)\n",
    "    fig, _ = lpltq3d.Plotq3D(comp_,temperature_,tot_mu, fig=fig, ax=ax,\n",
    "                             xmin=0.475, xmax=0.975, ymin=-40, ymax=850,\n",
    "                             x_label=x_p_label_text, y_label= 'T (K)',\n",
    "                             tick_multiplicator=tick_multiplicator,\n",
    "                             show_contour_lines=False, marker='s', marker_size=38**2,\n",
    "                             cbar_text=z_label['TOT'],show_colorbar=True,\n",
    "                             plot_controur=0, plot_scatter=1, show_plot=False)\n",
    "    lpltq3d.save_figure(f'Highest_FOM_mobility_Tb{tb}.{FigFormat}', savefig=savefigure, show_plot=True,\n",
    "                        fig=fig, CountFig=None, dpi=fig_save_dpi)"
   ]
  },
  {
   "cell_type": "code",
   "execution_count": null,
   "id": "99524c60-186d-4949-9407-8561c14ce43b",
   "metadata": {},
   "outputs": [],
   "source": [
    "# Plot mobilities in log scale\n",
    "for tb in mobility_dfff:\n",
    "    comp_,temperature_,tot_mu = plots_data[tb]['comp_'], plots_data[tb]['temperature_'], plots_data[tb]['tot_mu']\n",
    "    fig, ax = plt.subplots(figsize=(8,5.5), constrained_layout=True)\n",
    "    vmin = np.nanmin(tot_mu)\n",
    "    vmax = np.nanmax(tot_mu)\n",
    "    norm = colors.LogNorm(vmin=vmin, vmax=vmax) \n",
    "    cbar_mapable = cm.ScalarMappable(norm=norm, cmap='viridis')\n",
    "    fig, _ = lpltq3d.Plotq3D(comp_,temperature_,tot_mu, fig=fig, ax=ax,\n",
    "                             xmin=0.475, xmax=0.975, ymin=-40, ymax=850,\n",
    "                             x_label=x_p_label_text, y_label= 'T (K)',\n",
    "                             tick_multiplicator=tick_multiplicator,cbar_mappable=cbar_mapable,\n",
    "                             norm=norm, vmin=vmin, vmax=vmax,\n",
    "                             show_contour_lines=False, marker='s', marker_size=38**2,\n",
    "                             cbar_text=z_label['TOT'],show_colorbar=True,\n",
    "                             plot_controur=0, plot_scatter=1, show_plot=False)\n",
    "    lpltq3d.save_figure(f'Highest_FOM_log_mobility_Tb{tb}.{FigFormat}', savefig=savefigure, show_plot=True,\n",
    "                        fig=fig, CountFig=None, dpi=fig_save_dpi)"
   ]
  },
  {
   "cell_type": "code",
   "execution_count": null,
   "id": "b33d62b0-5540-4c40-968d-f70f9c9a3977",
   "metadata": {},
   "outputs": [],
   "source": [
    "for tb in mobility_dfff:\n",
    "    comp_,temperature_,lfom_norm_ = plots_data[tb]['comp_'], plots_data[tb]['temperature_'], plots_data[tb]['lfom_norm_']\n",
    "    XX, YY, XXX, YYY = plots_data_maxms[tb]\n",
    "    fig, ax = plt.subplots(figsize=(7.6,5.5), constrained_layout=True)\n",
    "    fig, _ = lpltq3d.Plotq3D(comp_,temperature_,lfom_norm_, fig=fig, ax=ax,\n",
    "                             xmin=0.475, xmax=0.975, ymin=-40, ymax=850,\n",
    "                             x_label=x_p_label_text, y_label= 'T (K)',\n",
    "                             tick_multiplicator=tick_multiplicator,\n",
    "                             show_contour_lines=False, marker='s', marker_size=38**2,\n",
    "                             cbar_text=z_label['LFOMnorm_2'],show_colorbar=True,\n",
    "                             plot_controur=0, plot_scatter=1, show_plot=False)\n",
    "    ax.scatter(XX, YY, marker='x', s=20**2, c='k')\n",
    "    ax.scatter(XXX, YYY, marker='o', s=10**2, c='k')\n",
    "    lpltq3d.save_figure(f'Highest_FOM_norm_Tb{tb}.{FigFormat}', savefig=savefigure, show_plot=True,\n",
    "                        fig=fig, CountFig=None, dpi=fig_save_dpi)"
   ]
  },
  {
   "cell_type": "code",
   "execution_count": null,
   "id": "e30dd714-ec98-467c-ba45-63dc225ec7a3",
   "metadata": {},
   "outputs": [],
   "source": [
    "markers_ = ['^', '*', 'd', 'o', 's', 'p']*3\n",
    "markers_ = ['.','>','D','o','*','h','p','s','^', '*', 'd', 'o', 's', 'p']*3\n",
    "colors_ = ['black','darkred', 'indianred','red', 'chocolate', 'peru', 'orange', 'gold', 'yellow']\n",
    "for tb, mobility_df in mobility_dfff.items():\n",
    "    ii = 0\n",
    "    df_group_T = mobility_df.groupby(['T'])\n",
    "    fig, ax = plt.subplots(constrained_layout=True)\n",
    "    for name, group in df_group_T:\n",
    "        #if name[0] in [100,200,300,400,600,800]:\n",
    "        markeredgecolor='darkgoldenrod' if name[0]>400 else 'none'\n",
    "        ax.plot(group['AlContentChannel'], group['LFOMnorm'], '-',marker=markers_[ii],\n",
    "                color=colors_[ii],label=f'T={name[0]} K', ms=12, mec=markeredgecolor,mew=0.5)\n",
    "        ii+=1\n",
    "    #ax.set_yscale('log')\n",
    "    ax.set_xlim(0.5,0.9)\n",
    "    ax.set_xlabel(x_p_label_text)\n",
    "    ax.set_ylabel(z_label['LFOMnorm_2'])\n",
    "    #ax.legend(loc='center left', bbox_to_anchor=(1, 0.5)) \n",
    "    ax.xaxis.set_major_locator(ticker.MultipleLocator(0.1))\n",
    "    ax.xaxis.set_minor_locator(ticker.MultipleLocator(0.05))\n",
    "    #ax.yaxis.set_major_locator(ticker.MultipleLocator(0.2))\n",
    "    #ax.yaxis.set_minor_locator(ticker.MultipleLocator(0.1))\n",
    "    ax.axhline(y=1,c='k', ls='--')\n",
    "    lpltq3d.save_figure(f'Highest_FOM_norm_line_Tb{tb}.{FigFormatPaper}', savefig=savefigure, show_plot=True,\n",
    "                        fig=fig, CountFig=None, dpi=fig_save_dpi)"
   ]
  },
  {
   "cell_type": "code",
   "execution_count": null,
   "id": "ad2f3158-f8a5-4aea-8f65-7df2fdda03cc",
   "metadata": {},
   "outputs": [],
   "source": [
    "save_file_name_ = f'temperature_legends.{FigFormatPaper}'\n",
    "# Now create a new image with legends only\n",
    "# adjust the figure size as necessary\n",
    "fig_leg = plt.figure(figsize=(1,1))\n",
    "ax_leg = fig_leg.add_subplot(111)\n",
    "# add the legend from the previous axes\n",
    "ax_leg.legend(*ax.get_legend_handles_labels(), ncol=3, loc='center')\n",
    "# hide the axes frame and the x/y labels\n",
    "ax_leg.axis('off')\n",
    "#ax_leg.set_frame_on(False)\n",
    "lpltq3d.save_figure(save_file_name_, fig=fig_leg, savefig=savefigure, dpi=fig_save_dpi, show_plot=False)"
   ]
  },
  {
   "cell_type": "code",
   "execution_count": null,
   "id": "59546e06-f930-4a01-b6b3-39d4e25fcb08",
   "metadata": {},
   "outputs": [],
   "source": [
    "for tb, mobility_df in mobility_dfff.items():\n",
    "    ii=0\n",
    "    df_group_T = mobility_df.groupby(['T'])\n",
    "    fig, ax = plt.subplots(figsize=(9.5,6), constrained_layout=True)\n",
    "    ax2 = ax.twinx()\n",
    "    for name, group in df_group_T:\n",
    "        #if name[0] in [100,200,300,400,600,800]:\n",
    "        ax2.plot(group['AlContentChannel'], group['LFOM'], '-',marker=markers_[ii], color=colors_[ii], label=name[0], ms=12)\n",
    "        ref_LFOM = mobility_ref_dff.loc[mobility_ref_dff['T']==name[0], 'LFOM'].iloc[0]\n",
    "        ax.scatter(0.47,ref_LFOM, marker=markers_[ii], color=colors_[ii], s=100)\n",
    "        ii+=1\n",
    "    ax.set_yscale('log')\n",
    "    ax.set_xlabel(x_p_label_text)\n",
    "    ax.set_ylabel(z_label['LFOM'])\n",
    "    \n",
    "    ax.xaxis.set_major_locator(ticker.MultipleLocator(0.1))\n",
    "    ax.xaxis.set_minor_locator(ticker.MultipleLocator(0.05))\n",
    "    \n",
    "    ax.axvline(x=0.5, c='k', ls='--')\n",
    "    #ax2.scatter([0.48]*len(lfom_r),lfom_r, marker='s')\n",
    "    ax2.set_yscale('log')\n",
    "    if tb == 50: \n",
    "        yminn = 7e3\n",
    "    elif tb==25:\n",
    "        yminn = 2e3\n",
    "    ax2.set_ylim(ymin=yminn, ymax=5e4)\n",
    "    #ax2.yaxis.set_major_locator(ticker.LogLocator(numticks=2))\n",
    "    #ax2.yaxis.set_minor_formatter(ticker.NullFormatter())\n",
    "    #ax2.minorticks_off()\n",
    "    \n",
    "    tmp = ax.get_xticks()\n",
    "    tmp_txt = [f'{xx:.1f}' for xx in tmp]\n",
    "    ax.set_xticks(list(tmp)+[0.47], tmp_txt+['0'])\n",
    "    ax.set_xlim(0.45,0.9)\n",
    "    lpltq3d.save_figure(f'Highest_FOM_line_Tb{tb}.{FigFormatPaper}', savefig=savefigure, show_plot=True,\n",
    "                        fig=fig, CountFig=None, dpi=fig_save_dpi)"
   ]
  },
  {
   "cell_type": "code",
   "execution_count": null,
   "id": "527512c7-ee1d-4467-9a01-72782956ca11",
   "metadata": {},
   "outputs": [],
   "source": [
    "for tb, mobility_df in mobility_dfff.items():\n",
    "    ii=0\n",
    "    df_group_T = mobility_df.groupby(['T'])\n",
    "    fig, ax = plt.subplots(figsize=(9,6), constrained_layout=True)\n",
    "    ax2 = ax.twinx()\n",
    "    for name, group in df_group_T:\n",
    "        ax2.plot(group['AlContentChannel'], group['LFOM'], '-',marker=markers_[ii], color=colors_[ii], label=name[0], ms=12)\n",
    "        ref_LFOM = mobility_ref_dff.loc[mobility_ref_dff['T']==name[0], 'LFOM'].iloc[0]\n",
    "        ax.scatter(0.47,ref_LFOM, color=colors_[ii], marker=markers_[ii],s=100)\n",
    "        ii+=1\n",
    "    ax.set_yscale('log')\n",
    "    ax.set_xlabel(x_p_label_text)\n",
    "    ax.set_ylabel(z_label['LFOM'])\n",
    "    \n",
    "    #ax.legend(loc='center left', bbox_to_anchor=(1, 0.5)) #loc='upper center', bbox_to_anchor=(0.5, 1.3), ncol=3)\n",
    "    ax.xaxis.set_major_locator(ticker.MultipleLocator(0.1))\n",
    "    ax.xaxis.set_minor_locator(ticker.MultipleLocator(0.05))\n",
    "    \n",
    "    ax.axvline(x=0.5, c='k', ls='--')\n",
    "    ax2.set_yscale('log')\n",
    "    ax2.set_ylim(ax.get_ylim())\n",
    "    tmp = ax.get_xticks()\n",
    "    tmp_txt = [f'{xx:.1f}' for xx in tmp]\n",
    "    ax.set_xticks(list(tmp)+[0.47], tmp_txt+['0'])\n",
    "    ax.set_xlim(0.45,0.9)\n",
    "    lpltq3d.save_figure(f'Highest_FOM_line_zoom_Tb{tb}.{FigFormat}', savefig=savefigure, show_plot=True,\n",
    "                        fig=fig, CountFig=None, dpi=fig_save_dpi)"
   ]
  },
  {
   "cell_type": "code",
   "execution_count": null,
   "id": "69cc4fca-089c-486c-9602-9033cedf4c91",
   "metadata": {},
   "outputs": [],
   "source": [
    "for tb, mobility_df in mobility_dfff.items():\n",
    "    XX, YY, XXX, YYY = plots_data_maxms[tb]\n",
    "    fig, ax = plt.subplots(constrained_layout=True)\n",
    "    ax.set_xlabel('T (K)')\n",
    "    ax.set_ylabel('Al composition channel, x') #Highest LFOM (MW/cm$^2$)\n",
    "    ax.plot(YYY, XXX, 'ko-', ms=12)\n",
    "    ax.xaxis.set_major_locator(ticker.MultipleLocator(200))\n",
    "    ax.xaxis.set_minor_locator(ticker.MultipleLocator(100))\n",
    "    ax.yaxis.set_major_locator(ticker.MultipleLocator(0.05))\n",
    "    ax.yaxis.set_minor_locator(ticker.MultipleLocator(0.025))\n",
    "    ax.set_xlim(0,800)\n",
    "    lpltq3d.save_figure(f'Highest_FOM_T_comp_Tb{tb}.{FigFormatPaper}', savefig=savefigure, show_plot=True,\n",
    "                        fig=fig, CountFig=None, dpi=fig_save_dpi)"
   ]
  },
  {
   "cell_type": "code",
   "execution_count": null,
   "id": "6cd21fdb-9d17-46b3-86a5-89e8b75fa4a3",
   "metadata": {},
   "outputs": [],
   "source": [
    "for tb in mobility_dfff:\n",
    "    comp_,temperature_,lfom_ = plots_data[tb]['comp_'], plots_data[tb]['temperature_'], plots_data[tb]['lfom_']\n",
    "    XX, YY, XXX, YYY = plots_data_maxms[tb]\n",
    "    vmin = np.nanmin(lfom_) #lfom_[lfom_>1].min()\n",
    "    vmax = np.nanmax(lfom_)\n",
    "    norm = colors.LogNorm(vmin=vmin, vmax=vmax) \n",
    "    cbar_mapable = cm.ScalarMappable(norm=norm, cmap='viridis')\n",
    "    \n",
    "    fig, ax = plt.subplots(figsize=(8,4.5), constrained_layout=True)\n",
    "    \n",
    "    fig, _ = lpltq3d.Plotq3D(comp_,temperature_,lfom_, fig=fig, ax=ax,\n",
    "                             xmin=0.475, xmax=0.975, ymin=-40, ymax=850,\n",
    "                             vmin=vmin, vmax=vmax,cbar_mappable=cbar_mapable,\n",
    "                             x_label=x_p_label_text, y_label= 'T (K)',\n",
    "                             tick_multiplicator=tick_multiplicator, norm='log',\n",
    "                             show_contour_lines=False, marker='s', marker_size=38**2,\n",
    "                             cbar_text=z_label['LFOM'],show_colorbar=True,\n",
    "                             plot_controur=0, plot_scatter=1, show_plot=False)\n",
    "    ax.scatter(XX, YY, marker='x', s=20**2, c='k')\n",
    "    ax.scatter(XXX, YYY, marker='o', s=10**2, c='k')\n",
    "    lpltq3d.save_figure(f'Highest_FOM_Tb{tb}.{FigFormat}', savefig=savefigure, show_plot=True,\n",
    "                        fig=fig, CountFig=None, dpi=fig_save_dpi)"
   ]
  },
  {
   "cell_type": "code",
   "execution_count": null,
   "id": "e1d6cfe0-abde-45c6-a4b5-bdbbe92e6137",
   "metadata": {},
   "outputs": [],
   "source": []
  }
 ],
 "metadata": {
  "kernelspec": {
   "display_name": "Python 3 (ipykernel)",
   "language": "python",
   "name": "python3"
  },
  "language_info": {
   "codemirror_mode": {
    "name": "ipython",
    "version": 3
   },
   "file_extension": ".py",
   "mimetype": "text/x-python",
   "name": "python",
   "nbconvert_exporter": "python",
   "pygments_lexer": "ipython3",
   "version": "3.12.3"
  }
 },
 "nbformat": 4,
 "nbformat_minor": 5
}
